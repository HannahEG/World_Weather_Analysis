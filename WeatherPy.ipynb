{
 "cells": [
  {
   "cell_type": "code",
   "execution_count": 3,
   "metadata": {},
   "outputs": [],
   "source": [
    "# Import dependencies\n",
    "import pandas as pd \n",
    "import matplotlib.pyplot as plt \n",
    "import numpy as np \n",
    "from citipy import citipy\n"
   ]
  },
  {
   "cell_type": "code",
   "execution_count": 4,
   "metadata": {},
   "outputs": [
    {
     "output_type": "execute_result",
     "data": {
      "text/plain": "<zip at 0x119379820>"
     },
     "metadata": {},
     "execution_count": 4
    }
   ],
   "source": [
    "# Create a set of random latitude and longitude combinations\n",
    "lats = np.random.uniform(-90,90,size=1500)\n",
    "lngs = np.random.uniform(-180,180, size=1500)\n",
    "lat_lngs = zip(lats, lngs)\n",
    "lat_lngs"
   ]
  },
  {
   "cell_type": "code",
   "execution_count": 5,
   "metadata": {},
   "outputs": [],
   "source": [
    "# Add the latitudes and longitudes to a list\n",
    "coordinates = list(lat_lngs)"
   ]
  },
  {
   "cell_type": "code",
   "execution_count": 6,
   "metadata": {},
   "outputs": [
    {
     "output_type": "execute_result",
     "data": {
      "text/plain": "617"
     },
     "metadata": {},
     "execution_count": 6
    }
   ],
   "source": [
    "# Create list for holding cities\n",
    "cities =[]\n",
    "# identify nearest city for each latitude and longitude combination\n",
    "for coordinate in coordinates:\n",
    "    city = citipy.nearest_city(coordinate[0],coordinate[1]).city_name\n",
    "    #if city is unique, add to cities list\n",
    "    if city not in cities:\n",
    "        cities.append(city)\n",
    "# print city count to confirm sufficient count\n",
    "len(cities) "
   ]
  },
  {
   "cell_type": "code",
   "execution_count": 10,
   "metadata": {},
   "outputs": [],
   "source": [
    "# Additional dependencies\n",
    "import requests\n",
    "from datetime import datetime\n",
    "from config1 import weather_api_key"
   ]
  },
  {
   "cell_type": "code",
   "execution_count": 12,
   "metadata": {
    "tags": [
     "outputPrepend"
    ]
   },
   "outputs": [
    {
     "output_type": "stream",
     "name": "stdout",
     "text": "d 10 of Set 4 | pevek\nProcessing Record 11 of Set 4 | mahebourg\nProcessing Record 12 of Set 4 | prabumulih\nProcessing Record 13 of Set 4 | jibuti\nProcessing Record 14 of Set 4 | toliary\nCity not found. Skipping...\nProcessing Record 15 of Set 4 | katsuura\nProcessing Record 16 of Set 4 | lerwick\nProcessing Record 17 of Set 4 | leningradskiy\nProcessing Record 18 of Set 4 | port hardy\nProcessing Record 19 of Set 4 | hamilton\nProcessing Record 20 of Set 4 | constitucion\nProcessing Record 21 of Set 4 | sitka\nProcessing Record 22 of Set 4 | noshiro\nProcessing Record 23 of Set 4 | urengoy\nProcessing Record 24 of Set 4 | iqaluit\nProcessing Record 25 of Set 4 | port blair\nProcessing Record 26 of Set 4 | bosaso\nProcessing Record 27 of Set 4 | vaitupu\nCity not found. Skipping...\nProcessing Record 28 of Set 4 | zabol\nProcessing Record 29 of Set 4 | lieksa\nProcessing Record 30 of Set 4 | sharjah\nProcessing Record 31 of Set 4 | hobart\nProcessing Record 32 of Set 4 | arenal\nProcessing Record 33 of Set 4 | korla\nProcessing Record 34 of Set 4 | teya\nProcessing Record 35 of Set 4 | resplendor\nProcessing Record 36 of Set 4 | yuanping\nProcessing Record 37 of Set 4 | kodiak\nProcessing Record 38 of Set 4 | dauriya\nProcessing Record 39 of Set 4 | qaanaaq\nProcessing Record 40 of Set 4 | rudnogorsk\nProcessing Record 41 of Set 4 | sumbe\nProcessing Record 42 of Set 4 | erenhot\nProcessing Record 43 of Set 4 | bundaberg\nProcessing Record 44 of Set 4 | cayce\nProcessing Record 45 of Set 4 | saskylakh\nProcessing Record 46 of Set 4 | samarai\nProcessing Record 47 of Set 4 | shiraoi\nProcessing Record 48 of Set 4 | tiksi\nProcessing Record 49 of Set 4 | klaksvik\nProcessing Record 50 of Set 4 | lensk\nProcessing Record 1 of Set 5 | grand river south east\nCity not found. Skipping...\nProcessing Record 2 of Set 5 | luanda\nProcessing Record 3 of Set 5 | avera\nProcessing Record 4 of Set 5 | mar del plata\nProcessing Record 5 of Set 5 | port shepstone\nProcessing Record 6 of Set 5 | domodossola\nProcessing Record 7 of Set 5 | kahului\nProcessing Record 8 of Set 5 | cervo\nProcessing Record 9 of Set 5 | richards bay\nProcessing Record 10 of Set 5 | shonguy\nProcessing Record 11 of Set 5 | istanbul\nProcessing Record 12 of Set 5 | sturgis\nProcessing Record 13 of Set 5 | khatanga\nProcessing Record 14 of Set 5 | mehamn\nProcessing Record 15 of Set 5 | coromandel\nProcessing Record 16 of Set 5 | san rafael\nProcessing Record 17 of Set 5 | zachagansk\nCity not found. Skipping...\nProcessing Record 18 of Set 5 | monterey\nProcessing Record 19 of Set 5 | kondinskoye\nProcessing Record 20 of Set 5 | airai\nProcessing Record 21 of Set 5 | ilulissat\nProcessing Record 22 of Set 5 | nizhneyansk\nCity not found. Skipping...\nProcessing Record 23 of Set 5 | chara\nProcessing Record 24 of Set 5 | talawdi\nCity not found. Skipping...\nProcessing Record 25 of Set 5 | astoria\nProcessing Record 26 of Set 5 | paracuru\nProcessing Record 27 of Set 5 | nizhniy tsasuchey\nProcessing Record 28 of Set 5 | mullaitivu\nCity not found. Skipping...\nProcessing Record 29 of Set 5 | sorvag\nCity not found. Skipping...\nProcessing Record 30 of Set 5 | saint-augustin\nProcessing Record 31 of Set 5 | cockburn town\nProcessing Record 32 of Set 5 | yialos\nCity not found. Skipping...\nProcessing Record 33 of Set 5 | rogers\nProcessing Record 34 of Set 5 | porto-vecchio\nProcessing Record 35 of Set 5 | synya\nProcessing Record 36 of Set 5 | raudeberg\nProcessing Record 37 of Set 5 | palasa\nProcessing Record 38 of Set 5 | torbat-e jam\nProcessing Record 39 of Set 5 | bonthe\nProcessing Record 40 of Set 5 | vestmannaeyjar\nProcessing Record 41 of Set 5 | harper\nProcessing Record 42 of Set 5 | namibe\nProcessing Record 43 of Set 5 | muzhi\nProcessing Record 44 of Set 5 | lebedyn\nProcessing Record 45 of Set 5 | tasiilaq\nProcessing Record 46 of Set 5 | alyangula\nProcessing Record 47 of Set 5 | concepcion del uruguay\nProcessing Record 48 of Set 5 | aksu\nProcessing Record 49 of Set 5 | lasa\nProcessing Record 50 of Set 5 | jahanabad\nProcessing Record 1 of Set 6 | provideniya\nProcessing Record 2 of Set 6 | souillac\nProcessing Record 3 of Set 6 | upernavik\nProcessing Record 4 of Set 6 | goure\nProcessing Record 5 of Set 6 | yarmouth\nProcessing Record 6 of Set 6 | chulym\nProcessing Record 7 of Set 6 | yichang\nProcessing Record 8 of Set 6 | dingle\nProcessing Record 9 of Set 6 | bengkulu\nProcessing Record 10 of Set 6 | honiara\nProcessing Record 11 of Set 6 | salym\nProcessing Record 12 of Set 6 | clyde river\nProcessing Record 13 of Set 6 | gizo\nProcessing Record 14 of Set 6 | cherskiy\nProcessing Record 15 of Set 6 | lander\nProcessing Record 16 of Set 6 | jalu\nProcessing Record 17 of Set 6 | mildura\nProcessing Record 18 of Set 6 | tupik\nProcessing Record 19 of Set 6 | the valley\nProcessing Record 20 of Set 6 | kodinsk\nProcessing Record 21 of Set 6 | san juan\nProcessing Record 22 of Set 6 | nikolskoye\nProcessing Record 23 of Set 6 | altay\nProcessing Record 24 of Set 6 | vila\nProcessing Record 25 of Set 6 | saint-pierre\nProcessing Record 26 of Set 6 | batagay\nProcessing Record 27 of Set 6 | tigil\nProcessing Record 28 of Set 6 | kieta\nProcessing Record 29 of Set 6 | ochakiv\nProcessing Record 30 of Set 6 | lincoln\nProcessing Record 31 of Set 6 | mergui\nCity not found. Skipping...\nProcessing Record 32 of Set 6 | oranjemund\nProcessing Record 33 of Set 6 | oswego\nProcessing Record 34 of Set 6 | muisne\nProcessing Record 35 of Set 6 | kisesa\nProcessing Record 36 of Set 6 | carnarvon\nProcessing Record 37 of Set 6 | hvide sande\nProcessing Record 38 of Set 6 | martyush\nProcessing Record 39 of Set 6 | lixourion\nProcessing Record 40 of Set 6 | leua\nProcessing Record 41 of Set 6 | mareeba\nProcessing Record 42 of Set 6 | carauari\nProcessing Record 43 of Set 6 | tual\nProcessing Record 44 of Set 6 | touros\nProcessing Record 45 of Set 6 | semey\nProcessing Record 46 of Set 6 | banda aceh\nProcessing Record 47 of Set 6 | dudinka\nProcessing Record 48 of Set 6 | palmas bellas\nProcessing Record 49 of Set 6 | mount gambier\nProcessing Record 50 of Set 6 | quthing\nProcessing Record 1 of Set 7 | henties bay\nProcessing Record 2 of Set 7 | port hedland\nProcessing Record 3 of Set 7 | panama city\nProcessing Record 4 of Set 7 | erzin\nProcessing Record 5 of Set 7 | takoradi\nProcessing Record 6 of Set 7 | chuy\nProcessing Record 7 of Set 7 | xixiang\nProcessing Record 8 of Set 7 | tommot\nProcessing Record 9 of Set 7 | pisco\nProcessing Record 10 of Set 7 | skjervoy\nProcessing Record 11 of Set 7 | varginha\nProcessing Record 12 of Set 7 | mocuba\nProcessing Record 13 of Set 7 | sorland\nProcessing Record 14 of Set 7 | rungata\nCity not found. Skipping...\nProcessing Record 15 of Set 7 | lavrentiya\nProcessing Record 16 of Set 7 | black river\nProcessing Record 17 of Set 7 | whitianga\nProcessing Record 18 of Set 7 | atar\nProcessing Record 19 of Set 7 | codrington\nProcessing Record 20 of Set 7 | bajah\nProcessing Record 21 of Set 7 | mys shmidta\nCity not found. Skipping...\nProcessing Record 22 of Set 7 | husavik\nProcessing Record 23 of Set 7 | marawi\nProcessing Record 24 of Set 7 | kletskaya\nProcessing Record 25 of Set 7 | beyneu\nProcessing Record 26 of Set 7 | curtea\nProcessing Record 27 of Set 7 | taoudenni\nProcessing Record 28 of Set 7 | nyimba\nProcessing Record 29 of Set 7 | lebu\nProcessing Record 30 of Set 7 | avila\nProcessing Record 31 of Set 7 | kavaratti\nProcessing Record 32 of Set 7 | bull savanna\nProcessing Record 33 of Set 7 | areia branca\nProcessing Record 34 of Set 7 | longlac\nCity not found. Skipping...\nProcessing Record 35 of Set 7 | khorixas\nProcessing Record 36 of Set 7 | yamada\nProcessing Record 37 of Set 7 | linden\nProcessing Record 38 of Set 7 | tyukhtet\nProcessing Record 39 of Set 7 | umm kaddadah\nProcessing Record 40 of Set 7 | necochea\nProcessing Record 41 of Set 7 | sao filipe\nProcessing Record 42 of Set 7 | salvador\nProcessing Record 43 of Set 7 | port macquarie\nProcessing Record 44 of Set 7 | tazovskiy\nProcessing Record 45 of Set 7 | homer\nProcessing Record 46 of Set 7 | chokurdakh\nProcessing Record 47 of Set 7 | poum\nProcessing Record 48 of Set 7 | sao joao da barra\nProcessing Record 49 of Set 7 | liverpool\nProcessing Record 50 of Set 7 | cabedelo\nProcessing Record 1 of Set 8 | bandrele\nProcessing Record 2 of Set 8 | burley\nProcessing Record 3 of Set 8 | tamiahua\nProcessing Record 4 of Set 8 | cayenne\nProcessing Record 5 of Set 8 | shache\nProcessing Record 6 of Set 8 | bemidji\nProcessing Record 7 of Set 8 | bela\nProcessing Record 8 of Set 8 | portoferraio\nProcessing Record 9 of Set 8 | kuche\nCity not found. Skipping...\nProcessing Record 10 of Set 8 | kloulklubed\nProcessing Record 11 of Set 8 | salta\nProcessing Record 12 of Set 8 | ulaanbaatar\nProcessing Record 13 of Set 8 | ust-maya\nProcessing Record 14 of Set 8 | cerritos\nProcessing Record 15 of Set 8 | tulum\nProcessing Record 16 of Set 8 | thanh hoa\nProcessing Record 17 of Set 8 | yulara\nProcessing Record 18 of Set 8 | zemio\nProcessing Record 19 of Set 8 | olinda\nProcessing Record 20 of Set 8 | peterhead\nProcessing Record 21 of Set 8 | lavumisa\nProcessing Record 22 of Set 8 | sarukhan\nProcessing Record 23 of Set 8 | san patricio\nProcessing Record 24 of Set 8 | lida\nProcessing Record 25 of Set 8 | dinsor\nCity not found. Skipping...\nProcessing Record 26 of Set 8 | salinas\nProcessing Record 27 of Set 8 | praia da vitoria\nProcessing Record 28 of Set 8 | rabaul\nProcessing Record 29 of Set 8 | yenagoa\nProcessing Record 30 of Set 8 | bolshoy tsaryn\nCity not found. Skipping...\nProcessing Record 31 of Set 8 | vostok\nProcessing Record 32 of Set 8 | kaura namoda\nProcessing Record 33 of Set 8 | jiwani\nProcessing Record 34 of Set 8 | obu\nProcessing Record 35 of Set 8 | quatre cocos\nProcessing Record 36 of Set 8 | skelleftea\nProcessing Record 37 of Set 8 | ponta delgada\nProcessing Record 38 of Set 8 | peleduy\nProcessing Record 39 of Set 8 | xuchang\nProcessing Record 40 of Set 8 | cairns\nProcessing Record 41 of Set 8 | asyut\nProcessing Record 42 of Set 8 | dunmore east\nProcessing Record 43 of Set 8 | talnakh\nProcessing Record 44 of Set 8 | rawson\nProcessing Record 45 of Set 8 | el faiyum\nCity not found. Skipping...\nProcessing Record 46 of Set 8 | manggar\nProcessing Record 47 of Set 8 | chihuahua\nProcessing Record 48 of Set 8 | ormara\nProcessing Record 49 of Set 8 | sola\nProcessing Record 50 of Set 8 | ahipara\nProcessing Record 1 of Set 9 | tumannyy\nCity not found. Skipping...\nProcessing Record 2 of Set 9 | petropavlovsk-kamchatskiy\nProcessing Record 3 of Set 9 | saint george\nCity not found. Skipping...\nProcessing Record 4 of Set 9 | recea cristur\nProcessing Record 5 of Set 9 | fairbanks\nProcessing Record 6 of Set 9 | kearney\nProcessing Record 7 of Set 9 | lanigan\nProcessing Record 8 of Set 9 | aswan\nProcessing Record 9 of Set 9 | mollendo\nProcessing Record 10 of Set 9 | redmond\nProcessing Record 11 of Set 9 | vardo\nProcessing Record 12 of Set 9 | labuhan\nProcessing Record 13 of Set 9 | buin\nProcessing Record 14 of Set 9 | yar-sale\nProcessing Record 15 of Set 9 | pierre\nProcessing Record 16 of Set 9 | bad rappenau\nProcessing Record 17 of Set 9 | lagoa\nProcessing Record 18 of Set 9 | bandarbeyla\nProcessing Record 19 of Set 9 | tiarei\nProcessing Record 20 of Set 9 | laguna\nProcessing Record 21 of Set 9 | snyder\nProcessing Record 22 of Set 9 | entre rios\nProcessing Record 23 of Set 9 | buffalo\nProcessing Record 24 of Set 9 | udalguri\nProcessing Record 25 of Set 9 | dogondoutchi\nProcessing Record 26 of Set 9 | neuquen\nProcessing Record 27 of Set 9 | hay river\nProcessing Record 28 of Set 9 | bereda\nProcessing Record 29 of Set 9 | amderma\nCity not found. Skipping...\nProcessing Record 30 of Set 9 | soto la marina\nProcessing Record 31 of Set 9 | isangel\nProcessing Record 32 of Set 9 | dalbandin\nProcessing Record 33 of Set 9 | pedasi\nProcessing Record 34 of Set 9 | camacha\nProcessing Record 35 of Set 9 | saint-joseph\nProcessing Record 36 of Set 9 | namatanai\nProcessing Record 37 of Set 9 | muhos\nProcessing Record 38 of Set 9 | srandakan\nProcessing Record 39 of Set 9 | egvekinot\nProcessing Record 40 of Set 9 | hauterive\nProcessing Record 41 of Set 9 | virginia beach\nProcessing Record 42 of Set 9 | katobu\nProcessing Record 43 of Set 9 | pannonhalma\nProcessing Record 44 of Set 9 | palu\nProcessing Record 45 of Set 9 | kapuskasing\nProcessing Record 46 of Set 9 | labytnangi\nProcessing Record 47 of Set 9 | iskateley\nProcessing Record 48 of Set 9 | dongsheng\nProcessing Record 49 of Set 9 | kantunilkin\nProcessing Record 50 of Set 9 | dalvik\nProcessing Record 1 of Set 10 | hit\nProcessing Record 2 of Set 10 | deputatskiy\nProcessing Record 3 of Set 10 | gbadolite\nProcessing Record 4 of Set 10 | jhargram\nProcessing Record 5 of Set 10 | solnechnyy\nProcessing Record 6 of Set 10 | kamenka\nProcessing Record 7 of Set 10 | shieli\nProcessing Record 8 of Set 10 | barwala\nProcessing Record 9 of Set 10 | torit\nProcessing Record 10 of Set 10 | yantal\nProcessing Record 11 of Set 10 | taicheng\nProcessing Record 12 of Set 10 | taos\nProcessing Record 13 of Set 10 | sabadell\nProcessing Record 14 of Set 10 | whitefish\nProcessing Record 15 of Set 10 | te anau\nProcessing Record 16 of Set 10 | axim\nProcessing Record 17 of Set 10 | moose factory\nProcessing Record 18 of Set 10 | kipushi\nProcessing Record 19 of Set 10 | chapais\nProcessing Record 20 of Set 10 | skalistyy\nCity not found. Skipping...\nProcessing Record 21 of Set 10 | talcahuano\nProcessing Record 22 of Set 10 | tandalti\nProcessing Record 23 of Set 10 | ambilobe\nProcessing Record 24 of Set 10 | tabou\nProcessing Record 25 of Set 10 | bokspits\nCity not found. Skipping...\nProcessing Record 26 of Set 10 | sulzbach-rosenberg\nProcessing Record 27 of Set 10 | palabuhanratu\nCity not found. Skipping...\nProcessing Record 28 of Set 10 | kupang\nProcessing Record 29 of Set 10 | fram\nProcessing Record 30 of Set 10 | plover\nProcessing Record 31 of Set 10 | hami\nProcessing Record 32 of Set 10 | constantine\nProcessing Record 33 of Set 10 | las vegas\nProcessing Record 34 of Set 10 | gat\nProcessing Record 35 of Set 10 | mayahi\nProcessing Record 36 of Set 10 | killybegs\nProcessing Record 37 of Set 10 | hammerfest\nProcessing Record 38 of Set 10 | acari\nProcessing Record 39 of Set 10 | yeppoon\nProcessing Record 40 of Set 10 | pitkyaranta\nProcessing Record 41 of Set 10 | belaya gora\nProcessing Record 42 of Set 10 | kasongo-lunda\nProcessing Record 43 of Set 10 | novyy urgal\nProcessing Record 44 of Set 10 | portland\nProcessing Record 45 of Set 10 | changji\nProcessing Record 46 of Set 10 | juneau\nProcessing Record 47 of Set 10 | alofi\nProcessing Record 48 of Set 10 | yafran\nProcessing Record 49 of Set 10 | severo-kurilsk\nProcessing Record 50 of Set 10 | borjomi\nProcessing Record 1 of Set 11 | chia\nProcessing Record 2 of Set 11 | metro\nProcessing Record 3 of Set 11 | salalah\nProcessing Record 4 of Set 11 | alvorada\nProcessing Record 5 of Set 11 | marquette\nProcessing Record 6 of Set 11 | port hawkesbury\nProcessing Record 7 of Set 11 | fortuna\nProcessing Record 8 of Set 11 | linxia\nProcessing Record 9 of Set 11 | hihifo\nCity not found. Skipping...\nProcessing Record 10 of Set 11 | alta floresta\nProcessing Record 11 of Set 11 | dhidhdhoo\nProcessing Record 12 of Set 11 | mosquera\nProcessing Record 13 of Set 11 | katangli\nProcessing Record 14 of Set 11 | tilichiki\nProcessing Record 15 of Set 11 | agirish\nProcessing Record 16 of Set 11 | tabiauea\nCity not found. Skipping...\nProcessing Record 17 of Set 11 | mountain home\nProcessing Record 18 of Set 11 | nouadhibou\nProcessing Record 19 of Set 11 | makakilo city\nProcessing Record 20 of Set 11 | honningsvag\nProcessing Record 21 of Set 11 | opuwo\nProcessing Record 22 of Set 11 | santa barbara\nProcessing Record 23 of Set 11 | nelson bay\nProcessing Record 24 of Set 11 | walvis bay\nProcessing Record 25 of Set 11 | daru\nProcessing Record 26 of Set 11 | san quintin\nProcessing Record 27 of Set 11 | pangai\nProcessing Record 28 of Set 11 | saleaula\nCity not found. Skipping...\nProcessing Record 29 of Set 11 | hasaki\nProcessing Record 30 of Set 11 | saint-louis\nProcessing Record 31 of Set 11 | shchelyayur\nCity not found. Skipping...\nProcessing Record 32 of Set 11 | tessalit\nProcessing Record 33 of Set 11 | kikwit\nProcessing Record 34 of Set 11 | urdzhar\nCity not found. Skipping...\nProcessing Record 35 of Set 11 | auki\nProcessing Record 36 of Set 11 | suraabad\nProcessing Record 37 of Set 11 | cap-aux-meules\nProcessing Record 38 of Set 11 | novouzensk\nProcessing Record 39 of Set 11 | belousovka\nProcessing Record 40 of Set 11 | hwange\nProcessing Record 41 of Set 11 | rio gallegos\nProcessing Record 42 of Set 11 | high level\nProcessing Record 43 of Set 11 | nome\nProcessing Record 44 of Set 11 | dzhusaly\nCity not found. Skipping...\nProcessing Record 45 of Set 11 | faro\nProcessing Record 46 of Set 11 | gobabis\nProcessing Record 47 of Set 11 | jerez\nProcessing Record 48 of Set 11 | bubaque\nProcessing Record 49 of Set 11 | ostrovnoy\nProcessing Record 50 of Set 11 | tabialan\nCity not found. Skipping...\nProcessing Record 1 of Set 12 | vila franca do campo\nProcessing Record 2 of Set 12 | bhindar\nProcessing Record 3 of Set 12 | makasar\nProcessing Record 4 of Set 12 | katherine\nProcessing Record 5 of Set 12 | nyuksenitsa\nProcessing Record 6 of Set 12 | tongren\nProcessing Record 7 of Set 12 | barawe\nCity not found. Skipping...\nProcessing Record 8 of Set 12 | agadir\nProcessing Record 9 of Set 12 | magadan\nProcessing Record 10 of Set 12 | palmas\nProcessing Record 11 of Set 12 | antofagasta\nProcessing Record 12 of Set 12 | madera\nProcessing Record 13 of Set 12 | esmeraldas\nProcessing Record 14 of Set 12 | nioro\nProcessing Record 15 of Set 12 | amapa\nProcessing Record 16 of Set 12 | ugoofaaru\nProcessing Record 17 of Set 12 | ust-karsk\nProcessing Record 18 of Set 12 | hualmay\nProcessing Record 19 of Set 12 | remanso\nProcessing Record 20 of Set 12 | priladozhskiy\nProcessing Record 21 of Set 12 | grand gaube\nProcessing Record 22 of Set 12 | nadym\nProcessing Record 23 of Set 12 | mount isa\nProcessing Record 24 of Set 12 | casino\nProcessing Record 25 of Set 12 | juba\nProcessing Record 26 of Set 12 | atbasar\nProcessing Record 27 of Set 12 | nyurba\nProcessing Record 28 of Set 12 | broken hill\nProcessing Record 29 of Set 12 | maryville\nProcessing Record 30 of Set 12 | zilupe\nProcessing Record 31 of Set 12 | jiaojiang\nProcessing Record 32 of Set 12 | vila do maio\nProcessing Record 33 of Set 12 | saint-ambroise\nProcessing Record 34 of Set 12 | ihosy\nProcessing Record 35 of Set 12 | tunduru\nCity not found. Skipping...\nProcessing Record 36 of Set 12 | pinawa\nProcessing Record 37 of Set 12 | mecca\nProcessing Record 38 of Set 12 | sechura\nProcessing Record 39 of Set 12 | marsh harbour\nProcessing Record 40 of Set 12 | pithoragarh\nProcessing Record 41 of Set 12 | bayshore gardens\nProcessing Record 42 of Set 12 | umm lajj\nProcessing Record 43 of Set 12 | morondava\nProcessing Record 44 of Set 12 | phan rang\nCity not found. Skipping...\nProcessing Record 45 of Set 12 | grand-santi\nProcessing Record 46 of Set 12 | obertyn\nProcessing Record 47 of Set 12 | goba\nProcessing Record 48 of Set 12 | pacifica\nProcessing Record 49 of Set 12 | bintulu\nProcessing Record 50 of Set 12 | deh rawud\nCity not found. Skipping...\nProcessing Record 1 of Set 13 | shitanjing\nProcessing Record 2 of Set 13 | filadelfia\nProcessing Record 3 of Set 13 | mrirt\nCity not found. Skipping...\nProcessing Record 4 of Set 13 | raahe\nProcessing Record 5 of Set 13 | monrovia\nProcessing Record 6 of Set 13 | puerto padre\nProcessing Record 7 of Set 13 | shimoda\nProcessing Record 8 of Set 13 | buraydah\nProcessing Record 9 of Set 13 | karratha\nProcessing Record 10 of Set 13 | maceio\nProcessing Record 11 of Set 13 | kimbe\nProcessing Record 12 of Set 13 | dolbeau\nCity not found. Skipping...\nProcessing Record 13 of Set 13 | aykhal\nProcessing Record 14 of Set 13 | tubruq\nCity not found. Skipping...\nProcessing Record 15 of Set 13 | gamba\nProcessing Record 16 of Set 13 | havre\nProcessing Record 17 of Set 13 | melton\n-----------------------------\nData Retrieval Complete      \n-----------------------------\n"
    }
   ],
   "source": [
    "#Base Url\n",
    "# Starting URL for Weather Map API Call.\n",
    "url = \"http://api.openweathermap.org/data/2.5/weather?units=Imperial&APPID=\" + weather_api_key\n",
    "# Create an empty list to hold the weather data.\n",
    "city_data = []\n",
    "# Print the beginning of the logging.\n",
    "print(\"Beginning Data Retrieval     \")\n",
    "print(\"-----------------------------\")\n",
    "\n",
    "# Create counters.\n",
    "record_count = 1\n",
    "set_count = 1\n",
    "\n",
    "# Loop through all the cities in the list.\n",
    "for i, city in enumerate(cities):\n",
    "\n",
    "    # Group cities in sets of 50 for logging purposes.\n",
    "    if (i % 50 == 0 and i >= 50):\n",
    "        set_count += 1\n",
    "        record_count = 1\n",
    "    # Create endpoint URL with each city.\n",
    "    city_url = url + \"&q=\" + city.replace(\" \",\"+\")\n",
    "\n",
    "    # Log the URL, record, and set numbers and the city.\n",
    "    print(f\"Processing Record {record_count} of Set {set_count} | {city}\")\n",
    "    # Add 1 to the record count.\n",
    "    record_count += 1\n",
    "\n",
    "    # Run an API request for each of the cities.\n",
    "    try:\n",
    "        # Parse the JSON and retrieve data.\n",
    "        city_weather = requests.get(city_url).json()\n",
    "        # Parse out the needed data.\n",
    "        city_lat = city_weather[\"coord\"][\"lat\"]\n",
    "        city_lng = city_weather[\"coord\"][\"lon\"]\n",
    "        city_max_temp = city_weather[\"main\"][\"temp_max\"]\n",
    "        city_humidity = city_weather[\"main\"][\"humidity\"]\n",
    "        city_clouds = city_weather[\"clouds\"][\"all\"]\n",
    "        city_wind = city_weather[\"wind\"][\"speed\"]\n",
    "        city_country = city_weather[\"sys\"][\"country\"]\n",
    "        # Convert the date to ISO standard.\n",
    "        city_date = datetime.utcfromtimestamp(city_weather[\"dt\"]).strftime('%Y-%m-%d %H:%M:%S')\n",
    "        # Append the city information into city_data list.\n",
    "        city_data.append({\"City\": city.title(),\n",
    "                          \"Lat\": city_lat,\n",
    "                          \"Lng\": city_lng,\n",
    "                          \"Max Temp\": city_max_temp,\n",
    "                          \"Humidity\": city_humidity,\n",
    "                          \"Cloudiness\": city_clouds,\n",
    "                          \"Wind Speed\": city_wind,\n",
    "                          \"Country\": city_country,\n",
    "                          \"Date\": city_date})\n",
    "\n",
    "# If an error is experienced, skip the city.\n",
    "    except:\n",
    "        print(\"City not found. Skipping...\")\n",
    "        pass\n",
    "\n",
    "# Indicate that Data Loading is complete.\n",
    "print(\"-----------------------------\")\n",
    "print(\"Data Retrieval Complete      \")\n",
    "print(\"-----------------------------\")"
   ]
  },
  {
   "cell_type": "code",
   "execution_count": 13,
   "metadata": {},
   "outputs": [
    {
     "output_type": "execute_result",
     "data": {
      "text/plain": "567"
     },
     "metadata": {},
     "execution_count": 13
    }
   ],
   "source": [
    "# Length of City_Data array\n",
    "len(city_data)"
   ]
  },
  {
   "cell_type": "code",
   "execution_count": 14,
   "metadata": {},
   "outputs": [
    {
     "output_type": "execute_result",
     "data": {
      "text/plain": "          City    Lat     Lng  Max Temp  Humidity  Cloudiness  Wind Speed  \\\n0       Sorong  -0.88  131.25     78.66        83         100        7.65   \n1  East London -33.02   27.91     56.62        55          62       18.07   \n2       Narsaq  60.92  -46.05     55.40        76          25        4.70   \n3    Pergamino -33.89  -60.57     50.00        41          71        5.01   \n4       Castro -24.79  -50.01     59.32        81           0        6.80   \n5     Hermanus -34.42   19.23     46.00        78           3        9.17   \n6     Victoria  22.29  114.16     86.00        70          74        8.99   \n7      Ushuaia -54.80  -68.30     35.60        80          20       18.34   \n8     Cidreira -30.18  -50.21     56.89        83         100        7.11   \n9     Qui Nhon  13.77  109.23     80.29        77         100        3.44   \n\n  Country                 Date  \n0      ID  2020-07-11 23:11:34  \n1      ZA  2020-07-11 23:11:35  \n2      GL  2020-07-11 23:11:36  \n3      AR  2020-07-11 23:10:23  \n4      BR  2020-07-11 23:11:38  \n5      ZA  2020-07-11 23:07:56  \n6      HK  2020-07-11 23:08:17  \n7      AR  2020-07-11 23:11:40  \n8      BR  2020-07-11 23:11:41  \n9      VN  2020-07-11 23:11:42  ",
      "text/html": "<div>\n<style scoped>\n    .dataframe tbody tr th:only-of-type {\n        vertical-align: middle;\n    }\n\n    .dataframe tbody tr th {\n        vertical-align: top;\n    }\n\n    .dataframe thead th {\n        text-align: right;\n    }\n</style>\n<table border=\"1\" class=\"dataframe\">\n  <thead>\n    <tr style=\"text-align: right;\">\n      <th></th>\n      <th>City</th>\n      <th>Lat</th>\n      <th>Lng</th>\n      <th>Max Temp</th>\n      <th>Humidity</th>\n      <th>Cloudiness</th>\n      <th>Wind Speed</th>\n      <th>Country</th>\n      <th>Date</th>\n    </tr>\n  </thead>\n  <tbody>\n    <tr>\n      <th>0</th>\n      <td>Sorong</td>\n      <td>-0.88</td>\n      <td>131.25</td>\n      <td>78.66</td>\n      <td>83</td>\n      <td>100</td>\n      <td>7.65</td>\n      <td>ID</td>\n      <td>2020-07-11 23:11:34</td>\n    </tr>\n    <tr>\n      <th>1</th>\n      <td>East London</td>\n      <td>-33.02</td>\n      <td>27.91</td>\n      <td>56.62</td>\n      <td>55</td>\n      <td>62</td>\n      <td>18.07</td>\n      <td>ZA</td>\n      <td>2020-07-11 23:11:35</td>\n    </tr>\n    <tr>\n      <th>2</th>\n      <td>Narsaq</td>\n      <td>60.92</td>\n      <td>-46.05</td>\n      <td>55.40</td>\n      <td>76</td>\n      <td>25</td>\n      <td>4.70</td>\n      <td>GL</td>\n      <td>2020-07-11 23:11:36</td>\n    </tr>\n    <tr>\n      <th>3</th>\n      <td>Pergamino</td>\n      <td>-33.89</td>\n      <td>-60.57</td>\n      <td>50.00</td>\n      <td>41</td>\n      <td>71</td>\n      <td>5.01</td>\n      <td>AR</td>\n      <td>2020-07-11 23:10:23</td>\n    </tr>\n    <tr>\n      <th>4</th>\n      <td>Castro</td>\n      <td>-24.79</td>\n      <td>-50.01</td>\n      <td>59.32</td>\n      <td>81</td>\n      <td>0</td>\n      <td>6.80</td>\n      <td>BR</td>\n      <td>2020-07-11 23:11:38</td>\n    </tr>\n    <tr>\n      <th>5</th>\n      <td>Hermanus</td>\n      <td>-34.42</td>\n      <td>19.23</td>\n      <td>46.00</td>\n      <td>78</td>\n      <td>3</td>\n      <td>9.17</td>\n      <td>ZA</td>\n      <td>2020-07-11 23:07:56</td>\n    </tr>\n    <tr>\n      <th>6</th>\n      <td>Victoria</td>\n      <td>22.29</td>\n      <td>114.16</td>\n      <td>86.00</td>\n      <td>70</td>\n      <td>74</td>\n      <td>8.99</td>\n      <td>HK</td>\n      <td>2020-07-11 23:08:17</td>\n    </tr>\n    <tr>\n      <th>7</th>\n      <td>Ushuaia</td>\n      <td>-54.80</td>\n      <td>-68.30</td>\n      <td>35.60</td>\n      <td>80</td>\n      <td>20</td>\n      <td>18.34</td>\n      <td>AR</td>\n      <td>2020-07-11 23:11:40</td>\n    </tr>\n    <tr>\n      <th>8</th>\n      <td>Cidreira</td>\n      <td>-30.18</td>\n      <td>-50.21</td>\n      <td>56.89</td>\n      <td>83</td>\n      <td>100</td>\n      <td>7.11</td>\n      <td>BR</td>\n      <td>2020-07-11 23:11:41</td>\n    </tr>\n    <tr>\n      <th>9</th>\n      <td>Qui Nhon</td>\n      <td>13.77</td>\n      <td>109.23</td>\n      <td>80.29</td>\n      <td>77</td>\n      <td>100</td>\n      <td>3.44</td>\n      <td>VN</td>\n      <td>2020-07-11 23:11:42</td>\n    </tr>\n  </tbody>\n</table>\n</div>"
     },
     "metadata": {},
     "execution_count": 14
    }
   ],
   "source": [
    "# Convert the array of dictionaries to a Pandas DataFrame.\n",
    "city_data_df = pd.DataFrame(city_data)\n",
    "city_data_df.head(10)"
   ]
  },
  {
   "cell_type": "code",
   "execution_count": 17,
   "metadata": {},
   "outputs": [
    {
     "output_type": "execute_result",
     "data": {
      "text/plain": "          City Country                 Date    Lat     Lng  Max Temp  \\\n0       Sorong      ID  2020-07-11 23:11:34  -0.88  131.25     78.66   \n1  East London      ZA  2020-07-11 23:11:35 -33.02   27.91     56.62   \n2       Narsaq      GL  2020-07-11 23:11:36  60.92  -46.05     55.40   \n3    Pergamino      AR  2020-07-11 23:10:23 -33.89  -60.57     50.00   \n4       Castro      BR  2020-07-11 23:11:38 -24.79  -50.01     59.32   \n\n   Humidity  Cloudiness  Wind Speed  \n0        83         100        7.65  \n1        55          62       18.07  \n2        76          25        4.70  \n3        41          71        5.01  \n4        81           0        6.80  ",
      "text/html": "<div>\n<style scoped>\n    .dataframe tbody tr th:only-of-type {\n        vertical-align: middle;\n    }\n\n    .dataframe tbody tr th {\n        vertical-align: top;\n    }\n\n    .dataframe thead th {\n        text-align: right;\n    }\n</style>\n<table border=\"1\" class=\"dataframe\">\n  <thead>\n    <tr style=\"text-align: right;\">\n      <th></th>\n      <th>City</th>\n      <th>Country</th>\n      <th>Date</th>\n      <th>Lat</th>\n      <th>Lng</th>\n      <th>Max Temp</th>\n      <th>Humidity</th>\n      <th>Cloudiness</th>\n      <th>Wind Speed</th>\n    </tr>\n  </thead>\n  <tbody>\n    <tr>\n      <th>0</th>\n      <td>Sorong</td>\n      <td>ID</td>\n      <td>2020-07-11 23:11:34</td>\n      <td>-0.88</td>\n      <td>131.25</td>\n      <td>78.66</td>\n      <td>83</td>\n      <td>100</td>\n      <td>7.65</td>\n    </tr>\n    <tr>\n      <th>1</th>\n      <td>East London</td>\n      <td>ZA</td>\n      <td>2020-07-11 23:11:35</td>\n      <td>-33.02</td>\n      <td>27.91</td>\n      <td>56.62</td>\n      <td>55</td>\n      <td>62</td>\n      <td>18.07</td>\n    </tr>\n    <tr>\n      <th>2</th>\n      <td>Narsaq</td>\n      <td>GL</td>\n      <td>2020-07-11 23:11:36</td>\n      <td>60.92</td>\n      <td>-46.05</td>\n      <td>55.40</td>\n      <td>76</td>\n      <td>25</td>\n      <td>4.70</td>\n    </tr>\n    <tr>\n      <th>3</th>\n      <td>Pergamino</td>\n      <td>AR</td>\n      <td>2020-07-11 23:10:23</td>\n      <td>-33.89</td>\n      <td>-60.57</td>\n      <td>50.00</td>\n      <td>41</td>\n      <td>71</td>\n      <td>5.01</td>\n    </tr>\n    <tr>\n      <th>4</th>\n      <td>Castro</td>\n      <td>BR</td>\n      <td>2020-07-11 23:11:38</td>\n      <td>-24.79</td>\n      <td>-50.01</td>\n      <td>59.32</td>\n      <td>81</td>\n      <td>0</td>\n      <td>6.80</td>\n    </tr>\n  </tbody>\n</table>\n</div>"
     },
     "metadata": {},
     "execution_count": 17
    }
   ],
   "source": [
    "# Reorder columns\n",
    "new_column_order = [\"City\", \"Country\", \"Date\", \"Lat\", \"Lng\", \"Max Temp\", \"Humidity\", \"Cloudiness\", \"Wind Speed\"]\n",
    "city_data_df= city_data_df[new_column_order]\n",
    "city_data_df.head()"
   ]
  },
  {
   "cell_type": "code",
   "execution_count": 18,
   "metadata": {},
   "outputs": [],
   "source": [
    "# Create the output file (CSV).\n",
    "output_data_file = \"weather_data/cities.csv\"\n",
    "# Export the City_Data into a CSV.\n",
    "city_data_df.to_csv(output_data_file, index_label=\"City_ID\")"
   ]
  },
  {
   "cell_type": "code",
   "execution_count": null,
   "metadata": {},
   "outputs": [],
   "source": []
  }
 ],
 "metadata": {
  "kernelspec": {
   "name": "hannah-pythondata1",
   "display_name": "PythonData1"
  }
 },
 "nbformat": 4,
 "nbformat_minor": 4
}