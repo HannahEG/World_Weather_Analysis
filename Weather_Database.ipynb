{
 "cells": [
  {
   "cell_type": "code",
   "execution_count": 1,
   "metadata": {},
   "outputs": [],
   "source": [
    "# Import dependencies\n",
    "import pandas as pd \n",
    "import matplotlib.pyplot as plt \n",
    "import numpy as np \n",
    "from citipy import citipy\n"
   ]
  },
  {
   "cell_type": "code",
   "execution_count": 3,
   "metadata": {},
   "outputs": [
    {
     "output_type": "execute_result",
     "data": {
      "text/plain": "<zip at 0x11fc7bbe0>"
     },
     "metadata": {},
     "execution_count": 3
    }
   ],
   "source": [
    "# Create a set of random latitude and longitude combinations\n",
    "lats = np.random.uniform(-90,90,size=1500)\n",
    "lngs = np.random.uniform(-180,180, size=1500)\n",
    "lat_lngs = zip(lats, lngs)\n",
    "lat_lngs"
   ]
  },
  {
   "cell_type": "code",
   "execution_count": 4,
   "metadata": {},
   "outputs": [],
   "source": [
    "# Add the latitudes and longitudes to a list\n",
    "coordinates = list(lat_lngs)"
   ]
  },
  {
   "cell_type": "code",
   "execution_count": 5,
   "metadata": {},
   "outputs": [
    {
     "output_type": "execute_result",
     "data": {
      "text/plain": "632"
     },
     "metadata": {},
     "execution_count": 5
    }
   ],
   "source": [
    "# Create list for holding cities\n",
    "cities =[]\n",
    "# identify nearest city for each latitude and longitude combination\n",
    "for coordinate in coordinates:\n",
    "    city = citipy.nearest_city(coordinate[0],coordinate[1]).city_name\n",
    "    #if city is unique, add to cities list\n",
    "    if city not in cities:\n",
    "        cities.append(city)\n",
    "# print city count to confirm sufficient count\n",
    "len(cities) "
   ]
  },
  {
   "cell_type": "code",
   "execution_count": 19,
   "metadata": {},
   "outputs": [],
   "source": [
    "class KeyError (Exception):\n",
    "    def _init_(self, expression, message):\n",
    "        self.expression = expression\n",
    "        self.message = message\n"
   ]
  },
  {
   "cell_type": "code",
   "execution_count": 47,
   "metadata": {},
   "outputs": [],
   "source": [
    "# Additional dependencies\n",
    "import requests\n",
    "from datetime import datetime\n",
    "from config1 import weather_api_key"
   ]
  },
  {
   "cell_type": "code",
   "execution_count": 51,
   "metadata": {
    "tags": [
     "outputPrepend"
    ]
   },
   "outputs": [
    {
     "output_type": "stream",
     "name": "stdout",
     "text": " | usinsk\nProcessing Record 22 of Set 4 | dujuma\nCity not found. Skipping...\nProcessing Record 23 of Set 4 | taltal\nProcessing Record 24 of Set 4 | upernavik\nProcessing Record 25 of Set 4 | cherskiy\nProcessing Record 26 of Set 4 | grand falls\nProcessing Record 27 of Set 4 | bada\nProcessing Record 28 of Set 4 | guiglo\nProcessing Record 29 of Set 4 | sioux lookout\nProcessing Record 30 of Set 4 | vao\nProcessing Record 31 of Set 4 | chagda\nCity not found. Skipping...\nProcessing Record 32 of Set 4 | paamiut\nProcessing Record 33 of Set 4 | aklavik\nProcessing Record 34 of Set 4 | belushya guba\nCity not found. Skipping...\nProcessing Record 35 of Set 4 | ranong\nProcessing Record 36 of Set 4 | shwebo\nProcessing Record 37 of Set 4 | junnar\nProcessing Record 38 of Set 4 | porto novo\nProcessing Record 39 of Set 4 | muhos\nProcessing Record 40 of Set 4 | zhangjiakou\nProcessing Record 41 of Set 4 | pietarsaari\nProcessing Record 42 of Set 4 | ingham\nProcessing Record 43 of Set 4 | soyo\nProcessing Record 44 of Set 4 | nanakuli\nProcessing Record 45 of Set 4 | karratha\nProcessing Record 46 of Set 4 | severo-kurilsk\nProcessing Record 47 of Set 4 | barentu\nProcessing Record 48 of Set 4 | aitape\nProcessing Record 49 of Set 4 | deputatskiy\nProcessing Record 50 of Set 4 | palana\nProcessing Record 1 of Set 5 | narsaq\nProcessing Record 2 of Set 5 | el badari\nCity not found. Skipping...\nProcessing Record 3 of Set 5 | huanren\nProcessing Record 4 of Set 5 | boffa\nProcessing Record 5 of Set 5 | havre-saint-pierre\nProcessing Record 6 of Set 5 | bacungan\nProcessing Record 7 of Set 5 | fort nelson\nProcessing Record 8 of Set 5 | cap malheureux\nProcessing Record 9 of Set 5 | hihifo\nCity not found. Skipping...\nProcessing Record 10 of Set 5 | vetas\nProcessing Record 11 of Set 5 | manali\nProcessing Record 12 of Set 5 | amderma\nCity not found. Skipping...\nProcessing Record 13 of Set 5 | henties bay\nProcessing Record 14 of Set 5 | hobyo\nProcessing Record 15 of Set 5 | talcahuano\nProcessing Record 16 of Set 5 | vila velha\nProcessing Record 17 of Set 5 | lappeenranta\nProcessing Record 18 of Set 5 | brigantine\nProcessing Record 19 of Set 5 | inhambane\nProcessing Record 20 of Set 5 | lingyuan\nProcessing Record 21 of Set 5 | naze\nProcessing Record 22 of Set 5 | avarua\nProcessing Record 23 of Set 5 | shagonar\nProcessing Record 24 of Set 5 | bambous virieux\nProcessing Record 25 of Set 5 | port blair\nProcessing Record 26 of Set 5 | rafaela\nProcessing Record 27 of Set 5 | bodrum\nProcessing Record 28 of Set 5 | shreveport\nProcessing Record 29 of Set 5 | cairo\nProcessing Record 30 of Set 5 | victoria\nProcessing Record 31 of Set 5 | barcelona\nProcessing Record 32 of Set 5 | tezu\nProcessing Record 33 of Set 5 | hailar\nProcessing Record 34 of Set 5 | micheweni\nProcessing Record 35 of Set 5 | zolotinka\nCity not found. Skipping...\nProcessing Record 36 of Set 5 | lebu\nProcessing Record 37 of Set 5 | paita\nProcessing Record 38 of Set 5 | juybar\nProcessing Record 39 of Set 5 | elban\nProcessing Record 40 of Set 5 | lavrentiya\nProcessing Record 41 of Set 5 | parati\nProcessing Record 42 of Set 5 | kendari\nProcessing Record 43 of Set 5 | sitangkai\nProcessing Record 44 of Set 5 | miles city\nProcessing Record 45 of Set 5 | nizwa\nProcessing Record 46 of Set 5 | touros\nProcessing Record 47 of Set 5 | miraflores\nProcessing Record 48 of Set 5 | emerald\nProcessing Record 49 of Set 5 | roma\nProcessing Record 50 of Set 5 | husavik\nProcessing Record 1 of Set 6 | mys shmidta\nCity not found. Skipping...\nProcessing Record 2 of Set 6 | ilulissat\nProcessing Record 3 of Set 6 | tsarychanka\nProcessing Record 4 of Set 6 | pangnirtung\nProcessing Record 5 of Set 6 | cam ranh\nProcessing Record 6 of Set 6 | flinders\nProcessing Record 7 of Set 6 | divnomorskoye\nProcessing Record 8 of Set 6 | atambua\nProcessing Record 9 of Set 6 | suar\nProcessing Record 10 of Set 6 | sampit\nProcessing Record 11 of Set 6 | kavarna\nProcessing Record 12 of Set 6 | tsihombe\nCity not found. Skipping...\nProcessing Record 13 of Set 6 | mayumba\nProcessing Record 14 of Set 6 | morondava\nProcessing Record 15 of Set 6 | norden\nProcessing Record 16 of Set 6 | menongue\nProcessing Record 17 of Set 6 | xingyi\nProcessing Record 18 of Set 6 | okakarara\nProcessing Record 19 of Set 6 | zatoka\nProcessing Record 20 of Set 6 | khatanga\nProcessing Record 21 of Set 6 | norman wells\nProcessing Record 22 of Set 6 | ostrovnoy\nProcessing Record 23 of Set 6 | sarangani\nProcessing Record 24 of Set 6 | bicas\nProcessing Record 25 of Set 6 | cognac\nProcessing Record 26 of Set 6 | bathsheba\nProcessing Record 27 of Set 6 | kudahuvadhoo\nProcessing Record 28 of Set 6 | wasserburg\nProcessing Record 29 of Set 6 | valjala\nCity not found. Skipping...\nProcessing Record 30 of Set 6 | korla\nProcessing Record 31 of Set 6 | superior\nProcessing Record 32 of Set 6 | tapes\nProcessing Record 33 of Set 6 | tevaitoa\nProcessing Record 34 of Set 6 | kruisfontein\nProcessing Record 35 of Set 6 | bereda\nProcessing Record 36 of Set 6 | hasaki\nProcessing Record 37 of Set 6 | chokurdakh\nProcessing Record 38 of Set 6 | katherine\nProcessing Record 39 of Set 6 | simao\nProcessing Record 40 of Set 6 | pevek\nProcessing Record 41 of Set 6 | bagepalli\nProcessing Record 42 of Set 6 | ler\nProcessing Record 43 of Set 6 | lusambo\nProcessing Record 44 of Set 6 | kavieng\nProcessing Record 45 of Set 6 | kupang\nProcessing Record 46 of Set 6 | richards bay\nProcessing Record 47 of Set 6 | moron\nProcessing Record 48 of Set 6 | saint george\nProcessing Record 49 of Set 6 | provideniya\nProcessing Record 50 of Set 6 | ziro\nProcessing Record 1 of Set 7 | port moresby\nProcessing Record 2 of Set 7 | ambilobe\nProcessing Record 3 of Set 7 | longyearbyen\nProcessing Record 4 of Set 7 | kamaishi\nProcessing Record 5 of Set 7 | marcona\nCity not found. Skipping...\nProcessing Record 6 of Set 7 | gunjur\nProcessing Record 7 of Set 7 | dogondoutchi\nProcessing Record 8 of Set 7 | namatanai\nProcessing Record 9 of Set 7 | utiroa\nCity not found. Skipping...\nProcessing Record 10 of Set 7 | isangel\nProcessing Record 11 of Set 7 | peniche\nProcessing Record 12 of Set 7 | maningrida\nProcessing Record 13 of Set 7 | amli\nProcessing Record 14 of Set 7 | hun\nProcessing Record 15 of Set 7 | benxi\nProcessing Record 16 of Set 7 | puerto maldonado\nProcessing Record 17 of Set 7 | aldan\nProcessing Record 18 of Set 7 | luderitz\nProcessing Record 19 of Set 7 | nome\nProcessing Record 20 of Set 7 | geraldton\nProcessing Record 21 of Set 7 | sijunjung\nProcessing Record 22 of Set 7 | xiongzhou\nProcessing Record 23 of Set 7 | yirol\nCity not found. Skipping...\nProcessing Record 24 of Set 7 | abha\nProcessing Record 25 of Set 7 | bilma\nProcessing Record 26 of Set 7 | saldanha\nProcessing Record 27 of Set 7 | codrington\nProcessing Record 28 of Set 7 | slatina\nProcessing Record 29 of Set 7 | lompoc\nProcessing Record 30 of Set 7 | huangmei\nProcessing Record 31 of Set 7 | udala\nProcessing Record 32 of Set 7 | tuktoyaktuk\nProcessing Record 33 of Set 7 | ivnya\nProcessing Record 34 of Set 7 | srednekolymsk\nProcessing Record 35 of Set 7 | ponta delgada\nProcessing Record 36 of Set 7 | eureka\nProcessing Record 37 of Set 7 | bogorodskoye\nProcessing Record 38 of Set 7 | valparaiso\nProcessing Record 39 of Set 7 | penzance\nProcessing Record 40 of Set 7 | najran\nProcessing Record 41 of Set 7 | meyungs\nCity not found. Skipping...\nProcessing Record 42 of Set 7 | polignano a mare\nProcessing Record 43 of Set 7 | wahiawa\nProcessing Record 44 of Set 7 | rusape\nProcessing Record 45 of Set 7 | okhotsk\nProcessing Record 46 of Set 7 | cabo san lucas\nProcessing Record 47 of Set 7 | dicabisagan\nProcessing Record 48 of Set 7 | naranjal\nProcessing Record 49 of Set 7 | padang\nProcessing Record 50 of Set 7 | turan\nProcessing Record 1 of Set 8 | bullingen\nCity not found. Skipping...\nProcessing Record 2 of Set 8 | ocos\nProcessing Record 3 of Set 8 | san cristobal\nProcessing Record 4 of Set 8 | cayenne\nProcessing Record 5 of Set 8 | kloulklubed\nProcessing Record 6 of Set 8 | borba\nProcessing Record 7 of Set 8 | oksfjord\nProcessing Record 8 of Set 8 | neryungri\nProcessing Record 9 of Set 8 | tonj\nProcessing Record 10 of Set 8 | leningradskiy\nProcessing Record 11 of Set 8 | monrovia\nProcessing Record 12 of Set 8 | saskylakh\nProcessing Record 13 of Set 8 | formosa\nProcessing Record 14 of Set 8 | bafata\nProcessing Record 15 of Set 8 | surin\nProcessing Record 16 of Set 8 | ust-kamchatsk\nCity not found. Skipping...\nProcessing Record 17 of Set 8 | yatou\nProcessing Record 18 of Set 8 | bolkhov\nProcessing Record 19 of Set 8 | rocha\nProcessing Record 20 of Set 8 | klaksvik\nProcessing Record 21 of Set 8 | cabra\nProcessing Record 22 of Set 8 | ubatuba\nProcessing Record 23 of Set 8 | sataua\nCity not found. Skipping...\nProcessing Record 24 of Set 8 | university park\nProcessing Record 25 of Set 8 | gornopravdinsk\nProcessing Record 26 of Set 8 | grindavik\nProcessing Record 27 of Set 8 | lillooet\nProcessing Record 28 of Set 8 | kamenka\nProcessing Record 29 of Set 8 | kavalerovo\nProcessing Record 30 of Set 8 | broken hill\nProcessing Record 31 of Set 8 | faya\nProcessing Record 32 of Set 8 | delta del tigre\nProcessing Record 33 of Set 8 | saint-pierre\nProcessing Record 34 of Set 8 | kisanga\nProcessing Record 35 of Set 8 | avera\nProcessing Record 36 of Set 8 | grand centre\nCity not found. Skipping...\nProcessing Record 37 of Set 8 | nsunga\nProcessing Record 38 of Set 8 | nouadhibou\nProcessing Record 39 of Set 8 | jyvaskyla\nProcessing Record 40 of Set 8 | salalah\nProcessing Record 41 of Set 8 | dembi dolo\nProcessing Record 42 of Set 8 | massaguet\nProcessing Record 43 of Set 8 | shetpe\nProcessing Record 44 of Set 8 | roebourne\nProcessing Record 45 of Set 8 | yeppoon\nProcessing Record 46 of Set 8 | tarudant\nCity not found. Skipping...\nProcessing Record 47 of Set 8 | vitim\nProcessing Record 48 of Set 8 | yangambi\nProcessing Record 49 of Set 8 | terrace\nProcessing Record 50 of Set 8 | karauzyak\nCity not found. Skipping...\nProcessing Record 1 of Set 9 | kabin buri\nProcessing Record 2 of Set 9 | lao cai\nProcessing Record 3 of Set 9 | burica\nCity not found. Skipping...\nProcessing Record 4 of Set 9 | vestmannaeyjar\nProcessing Record 5 of Set 9 | hay river\nProcessing Record 6 of Set 9 | karamay\nCity not found. Skipping...\nProcessing Record 7 of Set 9 | daru\nProcessing Record 8 of Set 9 | payson\nProcessing Record 9 of Set 9 | bangangte\nProcessing Record 10 of Set 9 | onega\nProcessing Record 11 of Set 9 | port lincoln\nProcessing Record 12 of Set 9 | takoradi\nProcessing Record 13 of Set 9 | kavaratti\nProcessing Record 14 of Set 9 | nebbi\nProcessing Record 15 of Set 9 | winnipeg\nProcessing Record 16 of Set 9 | vestmanna\nProcessing Record 17 of Set 9 | hualmay\nProcessing Record 18 of Set 9 | imbituba\nProcessing Record 19 of Set 9 | mahebourg\nProcessing Record 20 of Set 9 | macau\nProcessing Record 21 of Set 9 | renfrew\nProcessing Record 22 of Set 9 | aksu\nProcessing Record 23 of Set 9 | saint-avertin\nProcessing Record 24 of Set 9 | vanderhoof\nProcessing Record 25 of Set 9 | clyde river\nProcessing Record 26 of Set 9 | airai\nProcessing Record 27 of Set 9 | biograd na moru\nProcessing Record 28 of Set 9 | cao bang\nProcessing Record 29 of Set 9 | belmonte\nProcessing Record 30 of Set 9 | saint-georges\nProcessing Record 31 of Set 9 | college\nProcessing Record 32 of Set 9 | gondanglegi\nProcessing Record 33 of Set 9 | pochutla\nProcessing Record 34 of Set 9 | jeremie\nProcessing Record 35 of Set 9 | cidreira\nProcessing Record 36 of Set 9 | tabiauea\nCity not found. Skipping...\nProcessing Record 37 of Set 9 | la ronge\nProcessing Record 38 of Set 9 | koygorodok\nProcessing Record 39 of Set 9 | vaitupu\nCity not found. Skipping...\nProcessing Record 40 of Set 9 | marawi\nProcessing Record 41 of Set 9 | dunedin\nProcessing Record 42 of Set 9 | sao felix do xingu\nProcessing Record 43 of Set 9 | constitucion\nProcessing Record 44 of Set 9 | laguna\nProcessing Record 45 of Set 9 | tereze\nProcessing Record 46 of Set 9 | perth\nProcessing Record 47 of Set 9 | ha tinh\nProcessing Record 48 of Set 9 | lexington\nProcessing Record 49 of Set 9 | zamora\nProcessing Record 50 of Set 9 | daoukro\nProcessing Record 1 of Set 10 | samusu\nCity not found. Skipping...\nProcessing Record 2 of Set 10 | dudinka\nProcessing Record 3 of Set 10 | cairns\nProcessing Record 4 of Set 10 | oum hadjer\nProcessing Record 5 of Set 10 | turayf\nProcessing Record 6 of Set 10 | guerrero negro\nProcessing Record 7 of Set 10 | kushmurun\nProcessing Record 8 of Set 10 | wasilla\nProcessing Record 9 of Set 10 | gambo\nProcessing Record 10 of Set 10 | moree\nProcessing Record 11 of Set 10 | jiutai\nProcessing Record 12 of Set 10 | fare\nProcessing Record 13 of Set 10 | ocean city\nProcessing Record 14 of Set 10 | raigarh\nProcessing Record 15 of Set 10 | mission\nProcessing Record 16 of Set 10 | pisco\nProcessing Record 17 of Set 10 | shubarshi\nProcessing Record 18 of Set 10 | campbellford\nProcessing Record 19 of Set 10 | olinda\nProcessing Record 20 of Set 10 | vardo\nProcessing Record 21 of Set 10 | steamboat springs\nProcessing Record 22 of Set 10 | abu kamal\nProcessing Record 23 of Set 10 | toora-khem\nProcessing Record 24 of Set 10 | estelle\nProcessing Record 25 of Set 10 | wajid\nProcessing Record 26 of Set 10 | sorland\nProcessing Record 27 of Set 10 | chicama\nProcessing Record 28 of Set 10 | palmer\nProcessing Record 29 of Set 10 | warqla\nCity not found. Skipping...\nProcessing Record 30 of Set 10 | soyaux\nProcessing Record 31 of Set 10 | sungaipenuh\nProcessing Record 32 of Set 10 | lasa\nProcessing Record 33 of Set 10 | rio gallegos\nProcessing Record 34 of Set 10 | port hedland\nProcessing Record 35 of Set 10 | poso\nProcessing Record 36 of Set 10 | magaria\nProcessing Record 37 of Set 10 | tazovskiy\nProcessing Record 38 of Set 10 | santa marta\nProcessing Record 39 of Set 10 | port hardy\nProcessing Record 40 of Set 10 | moussoro\nProcessing Record 41 of Set 10 | vung tau\nProcessing Record 42 of Set 10 | meadow lake\nProcessing Record 43 of Set 10 | portobelo\nProcessing Record 44 of Set 10 | samana\nProcessing Record 45 of Set 10 | paciran\nProcessing Record 46 of Set 10 | russell\nProcessing Record 47 of Set 10 | valley city\nProcessing Record 48 of Set 10 | capinopolis\nProcessing Record 49 of Set 10 | tual\nProcessing Record 50 of Set 10 | songea\nProcessing Record 1 of Set 11 | hargeysa\nProcessing Record 2 of Set 11 | bjornevatn\nProcessing Record 3 of Set 11 | sistranda\nProcessing Record 4 of Set 11 | svetlaya\nProcessing Record 5 of Set 11 | abu samrah\nProcessing Record 6 of Set 11 | repalle\nProcessing Record 7 of Set 11 | muroto\nProcessing Record 8 of Set 11 | bacolod\nProcessing Record 9 of Set 11 | jacareacanga\nProcessing Record 10 of Set 11 | dali\nProcessing Record 11 of Set 11 | buala\nProcessing Record 12 of Set 11 | quatre cocos\nProcessing Record 13 of Set 11 | fevralsk\nCity not found. Skipping...\nProcessing Record 14 of Set 11 | lolua\nCity not found. Skipping...\nProcessing Record 15 of Set 11 | tucuman\nProcessing Record 16 of Set 11 | kayes\nProcessing Record 17 of Set 11 | altamira\nProcessing Record 18 of Set 11 | llanes\nProcessing Record 19 of Set 11 | santa pola\nProcessing Record 20 of Set 11 | lardos\nProcessing Record 21 of Set 11 | inuvik\nProcessing Record 22 of Set 11 | frondenberg\nProcessing Record 23 of Set 11 | hanna\nProcessing Record 24 of Set 11 | ko samui\nProcessing Record 25 of Set 11 | kuche\nCity not found. Skipping...\nProcessing Record 26 of Set 11 | amga\nProcessing Record 27 of Set 11 | san rafael\nProcessing Record 28 of Set 11 | diego de almagro\nProcessing Record 29 of Set 11 | xai-xai\nProcessing Record 30 of Set 11 | ballina\nProcessing Record 31 of Set 11 | grand-santi\nProcessing Record 32 of Set 11 | ilheus\nProcessing Record 33 of Set 11 | martapura\nProcessing Record 34 of Set 11 | dubovskoye\nProcessing Record 35 of Set 11 | grajewo\nProcessing Record 36 of Set 11 | rio grande\nProcessing Record 37 of Set 11 | magadan\nProcessing Record 38 of Set 11 | zherdevka\nProcessing Record 39 of Set 11 | wukari\nProcessing Record 40 of Set 11 | siparia\nProcessing Record 41 of Set 11 | san rafael del sur\nProcessing Record 42 of Set 11 | ostersund\nProcessing Record 43 of Set 11 | hamilton\nProcessing Record 44 of Set 11 | port-gentil\nProcessing Record 45 of Set 11 | lepaterique\nProcessing Record 46 of Set 11 | porbandar\nProcessing Record 47 of Set 11 | tahe\nProcessing Record 48 of Set 11 | manaure\nProcessing Record 49 of Set 11 | sturgeon falls\nProcessing Record 50 of Set 11 | horsham\nProcessing Record 1 of Set 12 | jiuquan\nProcessing Record 2 of Set 12 | pedernales\nProcessing Record 3 of Set 12 | tara\nProcessing Record 4 of Set 12 | lata\nProcessing Record 5 of Set 12 | nur\nProcessing Record 6 of Set 12 | aroysund\nProcessing Record 7 of Set 12 | kemijarvi\nProcessing Record 8 of Set 12 | rolim de moura\nCity not found. Skipping...\nProcessing Record 9 of Set 12 | achinsk\nProcessing Record 10 of Set 12 | xining\nProcessing Record 11 of Set 12 | pitimbu\nProcessing Record 12 of Set 12 | pumiao\nProcessing Record 13 of Set 12 | champerico\nProcessing Record 14 of Set 12 | tongliao\nProcessing Record 15 of Set 12 | abu dhabi\nProcessing Record 16 of Set 12 | wilmington\nProcessing Record 17 of Set 12 | hambantota\nProcessing Record 18 of Set 12 | ahipara\nProcessing Record 19 of Set 12 | pombal\nProcessing Record 20 of Set 12 | pleshanovo\nProcessing Record 21 of Set 12 | graaff-reinet\nProcessing Record 22 of Set 12 | mankapur\nProcessing Record 23 of Set 12 | melnikovo\nProcessing Record 24 of Set 12 | pili\nProcessing Record 25 of Set 12 | camana\nProcessing Record 26 of Set 12 | belyy yar\nProcessing Record 27 of Set 12 | half moon bay\nProcessing Record 28 of Set 12 | ixtapa\nProcessing Record 29 of Set 12 | nyazepetrovsk\nProcessing Record 30 of Set 12 | port pirie\nProcessing Record 31 of Set 12 | dingle\nProcessing Record 32 of Set 12 | staunton\nProcessing Record 33 of Set 12 | fortuna\nProcessing Record 34 of Set 12 | ngukurr\nCity not found. Skipping...\nProcessing Record 35 of Set 12 | trastenik\nProcessing Record 36 of Set 12 | dzilam gonzalez\nProcessing Record 37 of Set 12 | kibakwe\nProcessing Record 38 of Set 12 | kangaatsiaq\nProcessing Record 39 of Set 12 | stornoway\nProcessing Record 40 of Set 12 | tiksi\nProcessing Record 41 of Set 12 | tuatapere\nProcessing Record 42 of Set 12 | ondangwa\nProcessing Record 43 of Set 12 | willmar\nProcessing Record 44 of Set 12 | shimoda\nProcessing Record 45 of Set 12 | sal rei\nProcessing Record 46 of Set 12 | anadyr\nProcessing Record 47 of Set 12 | verkhnevilyuysk\nProcessing Record 48 of Set 12 | cheremushskiy\nProcessing Record 49 of Set 12 | wangqing\nProcessing Record 50 of Set 12 | adjumani\nProcessing Record 1 of Set 13 | boueni\nProcessing Record 2 of Set 13 | the valley\nProcessing Record 3 of Set 13 | reconquista\nProcessing Record 4 of Set 13 | hirara\nProcessing Record 5 of Set 13 | toliary\nCity not found. Skipping...\nProcessing Record 6 of Set 13 | obo\nProcessing Record 7 of Set 13 | boa vista\nProcessing Record 8 of Set 13 | svetlyy\nProcessing Record 9 of Set 13 | launceston\nProcessing Record 10 of Set 13 | chute-aux-outardes\nProcessing Record 11 of Set 13 | saint-augustin\nProcessing Record 12 of Set 13 | baykit\nProcessing Record 13 of Set 13 | pyinmana\nProcessing Record 14 of Set 13 | yenagoa\nProcessing Record 15 of Set 13 | havoysund\nProcessing Record 16 of Set 13 | omboue\nProcessing Record 17 of Set 13 | giresun\nProcessing Record 18 of Set 13 | thompson\nProcessing Record 19 of Set 13 | samarai\nProcessing Record 20 of Set 13 | huehuetenango\nProcessing Record 21 of Set 13 | sola\nProcessing Record 22 of Set 13 | santa maria\nProcessing Record 23 of Set 13 | margate\nProcessing Record 24 of Set 13 | wanning\nProcessing Record 25 of Set 13 | baudh\nProcessing Record 26 of Set 13 | turukhansk\nProcessing Record 27 of Set 13 | udachnyy\nProcessing Record 28 of Set 13 | marhaura\nProcessing Record 29 of Set 13 | praia\nProcessing Record 30 of Set 13 | noumea\nProcessing Record 31 of Set 13 | khonuu\nCity not found. Skipping...\nProcessing Record 32 of Set 13 | manokwari\nData Retrieval Complete\n"
    }
   ],
   "source": [
    "#Base Url\n",
    "# Starting URL for Weather Map API Call.\n",
    "url = \"http://api.openweathermap.org/data/2.5/weather?units=Imperial&APPID=\" + weather_api_key\n",
    "# Create an empty list to hold the weather data.\n",
    "city_data = []\n",
    "# Print the beginning of the logging.\n",
    "print(\"Beginning Data Retrieval     \")\n",
    "print(\"-----------------------------\")\n",
    "\n",
    "# Create counters.\n",
    "record_count = 1\n",
    "set_count = 1\n",
    "\n",
    "# Loop through all the cities in the list.\n",
    "for i, city in enumerate(cities):\n",
    "\n",
    "    # Group cities in sets of 50 for logging purposes.\n",
    "    if (i % 50 == 0 and i >= 50):\n",
    "        set_count += 1\n",
    "        record_count = 1\n",
    "    # Create endpoint URL with each city.\n",
    "    city_url = url + \"&q=\" + city.replace(\" \",\"+\")\n",
    "\n",
    "    # Log the URL, record, and set numbers and the city.\n",
    "    print(f\"Processing Record {record_count} of Set {set_count} | {city}\")\n",
    "    # Add 1 to the record count.\n",
    "    record_count += 1\n",
    "\n",
    "    # Run an API request for each of the cities.\n",
    "    try:\n",
    "        # Parse the JSON and retrieve data.\n",
    "        city_weather = requests.get(city_url).json()\n",
    "        # Parse out the needed data.\n",
    "        city_lat = city_weather[\"coord\"][\"lat\"]\n",
    "        city_lng = city_weather[\"coord\"][\"lon\"]\n",
    "        city_max_temp = city_weather[\"main\"][\"temp_max\"]\n",
    "        city_humidity = city_weather[\"main\"][\"humidity\"]\n",
    "        city_clouds = city_weather[\"clouds\"][\"all\"]\n",
    "        city_wind = city_weather[\"wind\"][\"speed\"]\n",
    "        city_country = city_weather[\"sys\"][\"country\"]\n",
    "        city_wthr_description = city_weather[\"weather\"][0][\"description\"]\n",
    "        try:\n",
    "            city_rain = city_weather[\"rain\"][\"1h\"]\n",
    "        except:\n",
    "            city_rain = 0\n",
    "            pass\n",
    "        try:\n",
    "            city_snow = city_weather[\"snow\"][\"1h\"]\n",
    "        except:\n",
    "            city_snow = 0\n",
    "            pass\n",
    "        # Convert the date to ISO standard.\n",
    "        city_date = datetime.utcfromtimestamp(city_weather[\"dt\"]).strftime('%Y-%m-%d %H:%M:%S')\n",
    "        # Append the city information into city_data list.\n",
    "        city_data.append({\"City\": city.title(),\n",
    "                          \"Lat\": city_lat,\n",
    "                          \"Lng\": city_lng,\n",
    "                          \"Max Temp\": city_max_temp,\n",
    "                          \"Humidity\": city_humidity,\n",
    "                          \"Cloudiness\": city_clouds,\n",
    "                          \"Wind Speed\": city_wind,\n",
    "                          \"Country\": city_country,\n",
    "                          \"Date\": city_date,\n",
    "                          \"Weather Description\": city_wthr_description,\n",
    "                          \"Rainfall\": city_rain,\n",
    "                          \"Snowfall\": city_snow\n",
    "                          })\n",
    "\n",
    "# If an error is experienced, skip the city.\n",
    "    except:\n",
    "        print(\"City not found. Skipping...\")\n",
    "        pass\n",
    "\n",
    "\n",
    "# # Indicate that Data Loading is complete.\n",
    "# print(\"-----------------------------\")\n",
    "print(\"Data Retrieval Complete\")\n",
    "# print(\"-----------------------------\")"
   ]
  },
  {
   "cell_type": "code",
   "execution_count": 52,
   "metadata": {},
   "outputs": [
    {
     "output_type": "execute_result",
     "data": {
      "text/plain": "580"
     },
     "metadata": {},
     "execution_count": 52
    }
   ],
   "source": [
    "# Length of City_Data array\n",
    "len(city_data)"
   ]
  },
  {
   "cell_type": "code",
   "execution_count": 53,
   "metadata": {},
   "outputs": [
    {
     "output_type": "execute_result",
     "data": {
      "text/plain": "               City    Lat     Lng  Max Temp  Humidity  Cloudiness  \\\n0           Rikitea -23.12 -134.97     70.93        75          54   \n1   Charters Towers -20.10  146.27     66.83        30          39   \n2             Vaini -21.20 -175.20     77.00        78          75   \n3         Cape Town -33.93   18.42     59.00        67          75   \n4           Mataura -46.19  168.86     45.00        83          83   \n5             Sitka  57.05 -135.33     57.20        76          90   \n6              Gizo  -8.10  156.84     81.68        78         100   \n7  Nizhniy Kuranakh  58.84  125.49     88.61        40          63   \n8       East London -33.02   27.91     61.79        31           0   \n9            Kijang  35.24  129.21     68.00        88          90   \n\n   Wind Speed Country                 Date          Weather Description  \\\n0       13.18      PF  2020-07-13 01:46:32                broken clouds   \n1       16.58      AU  2020-07-13 01:46:32             scattered clouds   \n2       17.22      TO  2020-07-13 01:46:33  light intensity shower rain   \n3       31.09      ZA  2020-07-13 01:54:16                broken clouds   \n4        4.92      NZ  2020-07-13 01:54:32                broken clouds   \n5        8.05      US  2020-07-13 01:54:13              overcast clouds   \n6        9.15      SB  2020-07-13 01:54:32                   light rain   \n7        3.89      RU  2020-07-13 01:49:44                broken clouds   \n8       12.17      ZA  2020-07-13 01:54:33                    clear sky   \n9       12.75      KR  2020-07-13 01:54:33         heavy intensity rain   \n\n   Rainfall  Snowfall  \n0      0.00         0  \n1      0.00         0  \n2      0.00         0  \n3      0.00         0  \n4      0.00         0  \n5      0.00         0  \n6      0.54         0  \n7      0.00         0  \n8      0.00         0  \n9      0.00         0  ",
      "text/html": "<div>\n<style scoped>\n    .dataframe tbody tr th:only-of-type {\n        vertical-align: middle;\n    }\n\n    .dataframe tbody tr th {\n        vertical-align: top;\n    }\n\n    .dataframe thead th {\n        text-align: right;\n    }\n</style>\n<table border=\"1\" class=\"dataframe\">\n  <thead>\n    <tr style=\"text-align: right;\">\n      <th></th>\n      <th>City</th>\n      <th>Lat</th>\n      <th>Lng</th>\n      <th>Max Temp</th>\n      <th>Humidity</th>\n      <th>Cloudiness</th>\n      <th>Wind Speed</th>\n      <th>Country</th>\n      <th>Date</th>\n      <th>Weather Description</th>\n      <th>Rainfall</th>\n      <th>Snowfall</th>\n    </tr>\n  </thead>\n  <tbody>\n    <tr>\n      <th>0</th>\n      <td>Rikitea</td>\n      <td>-23.12</td>\n      <td>-134.97</td>\n      <td>70.93</td>\n      <td>75</td>\n      <td>54</td>\n      <td>13.18</td>\n      <td>PF</td>\n      <td>2020-07-13 01:46:32</td>\n      <td>broken clouds</td>\n      <td>0.00</td>\n      <td>0</td>\n    </tr>\n    <tr>\n      <th>1</th>\n      <td>Charters Towers</td>\n      <td>-20.10</td>\n      <td>146.27</td>\n      <td>66.83</td>\n      <td>30</td>\n      <td>39</td>\n      <td>16.58</td>\n      <td>AU</td>\n      <td>2020-07-13 01:46:32</td>\n      <td>scattered clouds</td>\n      <td>0.00</td>\n      <td>0</td>\n    </tr>\n    <tr>\n      <th>2</th>\n      <td>Vaini</td>\n      <td>-21.20</td>\n      <td>-175.20</td>\n      <td>77.00</td>\n      <td>78</td>\n      <td>75</td>\n      <td>17.22</td>\n      <td>TO</td>\n      <td>2020-07-13 01:46:33</td>\n      <td>light intensity shower rain</td>\n      <td>0.00</td>\n      <td>0</td>\n    </tr>\n    <tr>\n      <th>3</th>\n      <td>Cape Town</td>\n      <td>-33.93</td>\n      <td>18.42</td>\n      <td>59.00</td>\n      <td>67</td>\n      <td>75</td>\n      <td>31.09</td>\n      <td>ZA</td>\n      <td>2020-07-13 01:54:16</td>\n      <td>broken clouds</td>\n      <td>0.00</td>\n      <td>0</td>\n    </tr>\n    <tr>\n      <th>4</th>\n      <td>Mataura</td>\n      <td>-46.19</td>\n      <td>168.86</td>\n      <td>45.00</td>\n      <td>83</td>\n      <td>83</td>\n      <td>4.92</td>\n      <td>NZ</td>\n      <td>2020-07-13 01:54:32</td>\n      <td>broken clouds</td>\n      <td>0.00</td>\n      <td>0</td>\n    </tr>\n    <tr>\n      <th>5</th>\n      <td>Sitka</td>\n      <td>57.05</td>\n      <td>-135.33</td>\n      <td>57.20</td>\n      <td>76</td>\n      <td>90</td>\n      <td>8.05</td>\n      <td>US</td>\n      <td>2020-07-13 01:54:13</td>\n      <td>overcast clouds</td>\n      <td>0.00</td>\n      <td>0</td>\n    </tr>\n    <tr>\n      <th>6</th>\n      <td>Gizo</td>\n      <td>-8.10</td>\n      <td>156.84</td>\n      <td>81.68</td>\n      <td>78</td>\n      <td>100</td>\n      <td>9.15</td>\n      <td>SB</td>\n      <td>2020-07-13 01:54:32</td>\n      <td>light rain</td>\n      <td>0.54</td>\n      <td>0</td>\n    </tr>\n    <tr>\n      <th>7</th>\n      <td>Nizhniy Kuranakh</td>\n      <td>58.84</td>\n      <td>125.49</td>\n      <td>88.61</td>\n      <td>40</td>\n      <td>63</td>\n      <td>3.89</td>\n      <td>RU</td>\n      <td>2020-07-13 01:49:44</td>\n      <td>broken clouds</td>\n      <td>0.00</td>\n      <td>0</td>\n    </tr>\n    <tr>\n      <th>8</th>\n      <td>East London</td>\n      <td>-33.02</td>\n      <td>27.91</td>\n      <td>61.79</td>\n      <td>31</td>\n      <td>0</td>\n      <td>12.17</td>\n      <td>ZA</td>\n      <td>2020-07-13 01:54:33</td>\n      <td>clear sky</td>\n      <td>0.00</td>\n      <td>0</td>\n    </tr>\n    <tr>\n      <th>9</th>\n      <td>Kijang</td>\n      <td>35.24</td>\n      <td>129.21</td>\n      <td>68.00</td>\n      <td>88</td>\n      <td>90</td>\n      <td>12.75</td>\n      <td>KR</td>\n      <td>2020-07-13 01:54:33</td>\n      <td>heavy intensity rain</td>\n      <td>0.00</td>\n      <td>0</td>\n    </tr>\n  </tbody>\n</table>\n</div>"
     },
     "metadata": {},
     "execution_count": 53
    }
   ],
   "source": [
    "# Convert the array of dictionaries to a Pandas DataFrame.\n",
    "city_data_df = pd.DataFrame(city_data)\n",
    "city_data_df.head(10)"
   ]
  },
  {
   "cell_type": "code",
   "execution_count": 54,
   "metadata": {},
   "outputs": [
    {
     "output_type": "execute_result",
     "data": {
      "text/plain": "              City Country                 Date    Lat     Lng  Max Temp  \\\n0          Rikitea      PF  2020-07-13 01:46:32 -23.12 -134.97     70.93   \n1  Charters Towers      AU  2020-07-13 01:46:32 -20.10  146.27     66.83   \n2            Vaini      TO  2020-07-13 01:46:33 -21.20 -175.20     77.00   \n3        Cape Town      ZA  2020-07-13 01:54:16 -33.93   18.42     59.00   \n4          Mataura      NZ  2020-07-13 01:54:32 -46.19  168.86     45.00   \n\n   Humidity  Cloudiness  Wind Speed          Weather Description  Rainfall  \\\n0        75          54       13.18                broken clouds       0.0   \n1        30          39       16.58             scattered clouds       0.0   \n2        78          75       17.22  light intensity shower rain       0.0   \n3        67          75       31.09                broken clouds       0.0   \n4        83          83        4.92                broken clouds       0.0   \n\n   Snowfall  \n0         0  \n1         0  \n2         0  \n3         0  \n4         0  ",
      "text/html": "<div>\n<style scoped>\n    .dataframe tbody tr th:only-of-type {\n        vertical-align: middle;\n    }\n\n    .dataframe tbody tr th {\n        vertical-align: top;\n    }\n\n    .dataframe thead th {\n        text-align: right;\n    }\n</style>\n<table border=\"1\" class=\"dataframe\">\n  <thead>\n    <tr style=\"text-align: right;\">\n      <th></th>\n      <th>City</th>\n      <th>Country</th>\n      <th>Date</th>\n      <th>Lat</th>\n      <th>Lng</th>\n      <th>Max Temp</th>\n      <th>Humidity</th>\n      <th>Cloudiness</th>\n      <th>Wind Speed</th>\n      <th>Weather Description</th>\n      <th>Rainfall</th>\n      <th>Snowfall</th>\n    </tr>\n  </thead>\n  <tbody>\n    <tr>\n      <th>0</th>\n      <td>Rikitea</td>\n      <td>PF</td>\n      <td>2020-07-13 01:46:32</td>\n      <td>-23.12</td>\n      <td>-134.97</td>\n      <td>70.93</td>\n      <td>75</td>\n      <td>54</td>\n      <td>13.18</td>\n      <td>broken clouds</td>\n      <td>0.0</td>\n      <td>0</td>\n    </tr>\n    <tr>\n      <th>1</th>\n      <td>Charters Towers</td>\n      <td>AU</td>\n      <td>2020-07-13 01:46:32</td>\n      <td>-20.10</td>\n      <td>146.27</td>\n      <td>66.83</td>\n      <td>30</td>\n      <td>39</td>\n      <td>16.58</td>\n      <td>scattered clouds</td>\n      <td>0.0</td>\n      <td>0</td>\n    </tr>\n    <tr>\n      <th>2</th>\n      <td>Vaini</td>\n      <td>TO</td>\n      <td>2020-07-13 01:46:33</td>\n      <td>-21.20</td>\n      <td>-175.20</td>\n      <td>77.00</td>\n      <td>78</td>\n      <td>75</td>\n      <td>17.22</td>\n      <td>light intensity shower rain</td>\n      <td>0.0</td>\n      <td>0</td>\n    </tr>\n    <tr>\n      <th>3</th>\n      <td>Cape Town</td>\n      <td>ZA</td>\n      <td>2020-07-13 01:54:16</td>\n      <td>-33.93</td>\n      <td>18.42</td>\n      <td>59.00</td>\n      <td>67</td>\n      <td>75</td>\n      <td>31.09</td>\n      <td>broken clouds</td>\n      <td>0.0</td>\n      <td>0</td>\n    </tr>\n    <tr>\n      <th>4</th>\n      <td>Mataura</td>\n      <td>NZ</td>\n      <td>2020-07-13 01:54:32</td>\n      <td>-46.19</td>\n      <td>168.86</td>\n      <td>45.00</td>\n      <td>83</td>\n      <td>83</td>\n      <td>4.92</td>\n      <td>broken clouds</td>\n      <td>0.0</td>\n      <td>0</td>\n    </tr>\n  </tbody>\n</table>\n</div>"
     },
     "metadata": {},
     "execution_count": 54
    }
   ],
   "source": [
    "# Reorder columns\n",
    "new_column_order = [\"City\", \"Country\", \"Date\", \"Lat\", \"Lng\", \"Max Temp\", \"Humidity\", \"Cloudiness\", \"Wind Speed\", \"Weather Description\", \"Rainfall\", \"Snowfall\"]\n",
    "city_data_df= city_data_df[new_column_order]\n",
    "city_data_df.head()"
   ]
  },
  {
   "cell_type": "code",
   "execution_count": 58,
   "metadata": {},
   "outputs": [],
   "source": [
    "# Create the output file (CSV).\n",
    "output_data_file = \"weather_data/WeatherPy_database.csv\"\n",
    "# Export the City_Data into a CSV.\n",
    "city_data_df.to_csv(output_data_file, index_label=\"City_ID\")"
   ]
  },
  {
   "cell_type": "code",
   "execution_count": null,
   "metadata": {},
   "outputs": [],
   "source": []
  }
 ],
 "metadata": {
  "kernelspec": {
   "name": "hannah-pythondata1",
   "display_name": "PythonData1"
  }
 },
 "nbformat": 4,
 "nbformat_minor": 4
}