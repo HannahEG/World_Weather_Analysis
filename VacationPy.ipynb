{
 "cells": [
  {
   "cell_type": "code",
   "execution_count": 1,
   "metadata": {},
   "outputs": [],
   "source": [
    "# import dependencies\n",
    "import pandas as pd \n",
    "import gmaps \n",
    "import requests \n",
    "#import api key\n",
    "from config1 import g_key\n"
   ]
  },
  {
   "cell_type": "code",
   "execution_count": 2,
   "metadata": {},
   "outputs": [
    {
     "output_type": "execute_result",
     "data": {
      "text/plain": "   City_ID         City Country                 Date    Lat     Lng  Max Temp  \\\n0        0       Sorong      ID  2020-07-11 23:11:34  -0.88  131.25     78.66   \n1        1  East London      ZA  2020-07-11 23:11:35 -33.02   27.91     56.62   \n2        2       Narsaq      GL  2020-07-11 23:11:36  60.92  -46.05     55.40   \n3        3    Pergamino      AR  2020-07-11 23:10:23 -33.89  -60.57     50.00   \n4        4       Castro      BR  2020-07-11 23:11:38 -24.79  -50.01     59.32   \n\n   Humidity  Cloudiness  Wind Speed  \n0        83         100        7.65  \n1        55          62       18.07  \n2        76          25        4.70  \n3        41          71        5.01  \n4        81           0        6.80  ",
      "text/html": "<div>\n<style scoped>\n    .dataframe tbody tr th:only-of-type {\n        vertical-align: middle;\n    }\n\n    .dataframe tbody tr th {\n        vertical-align: top;\n    }\n\n    .dataframe thead th {\n        text-align: right;\n    }\n</style>\n<table border=\"1\" class=\"dataframe\">\n  <thead>\n    <tr style=\"text-align: right;\">\n      <th></th>\n      <th>City_ID</th>\n      <th>City</th>\n      <th>Country</th>\n      <th>Date</th>\n      <th>Lat</th>\n      <th>Lng</th>\n      <th>Max Temp</th>\n      <th>Humidity</th>\n      <th>Cloudiness</th>\n      <th>Wind Speed</th>\n    </tr>\n  </thead>\n  <tbody>\n    <tr>\n      <th>0</th>\n      <td>0</td>\n      <td>Sorong</td>\n      <td>ID</td>\n      <td>2020-07-11 23:11:34</td>\n      <td>-0.88</td>\n      <td>131.25</td>\n      <td>78.66</td>\n      <td>83</td>\n      <td>100</td>\n      <td>7.65</td>\n    </tr>\n    <tr>\n      <th>1</th>\n      <td>1</td>\n      <td>East London</td>\n      <td>ZA</td>\n      <td>2020-07-11 23:11:35</td>\n      <td>-33.02</td>\n      <td>27.91</td>\n      <td>56.62</td>\n      <td>55</td>\n      <td>62</td>\n      <td>18.07</td>\n    </tr>\n    <tr>\n      <th>2</th>\n      <td>2</td>\n      <td>Narsaq</td>\n      <td>GL</td>\n      <td>2020-07-11 23:11:36</td>\n      <td>60.92</td>\n      <td>-46.05</td>\n      <td>55.40</td>\n      <td>76</td>\n      <td>25</td>\n      <td>4.70</td>\n    </tr>\n    <tr>\n      <th>3</th>\n      <td>3</td>\n      <td>Pergamino</td>\n      <td>AR</td>\n      <td>2020-07-11 23:10:23</td>\n      <td>-33.89</td>\n      <td>-60.57</td>\n      <td>50.00</td>\n      <td>41</td>\n      <td>71</td>\n      <td>5.01</td>\n    </tr>\n    <tr>\n      <th>4</th>\n      <td>4</td>\n      <td>Castro</td>\n      <td>BR</td>\n      <td>2020-07-11 23:11:38</td>\n      <td>-24.79</td>\n      <td>-50.01</td>\n      <td>59.32</td>\n      <td>81</td>\n      <td>0</td>\n      <td>6.80</td>\n    </tr>\n  </tbody>\n</table>\n</div>"
     },
     "metadata": {},
     "execution_count": 2
    }
   ],
   "source": [
    "# store cities csv into a dataframe\n",
    "city_data_df = pd.read_csv(\"weather_data/cities.csv\")\n",
    "city_data_df.head()"
   ]
  },
  {
   "cell_type": "code",
   "execution_count": 3,
   "metadata": {},
   "outputs": [
    {
     "output_type": "execute_result",
     "data": {
      "text/plain": "City_ID         int64\nCity           object\nCountry        object\nDate           object\nLat           float64\nLng           float64\nMax Temp      float64\nHumidity        int64\nCloudiness      int64\nWind Speed    float64\ndtype: object"
     },
     "metadata": {},
     "execution_count": 3
    }
   ],
   "source": [
    "city_data_df.dtypes"
   ]
  },
  {
   "cell_type": "code",
   "execution_count": 4,
   "metadata": {},
   "outputs": [],
   "source": [
    "# Configure gmaps to use google api key\n",
    "gmaps.configure(api_key=g_key)"
   ]
  },
  {
   "cell_type": "code",
   "execution_count": 20,
   "metadata": {},
   "outputs": [
    {
     "output_type": "display_data",
     "data": {
      "text/plain": "Figure(layout=FigureLayout(height='420px'))",
      "application/vnd.jupyter.widget-view+json": {
       "version_major": 2,
       "version_minor": 0,
       "model_id": "b4752ab0a1f1487cbd9d5c95be22c072"
      }
     },
     "metadata": {}
    }
   ],
   "source": [
    "# Heatmap of temperature\n",
    "# Get the latitude and longitude.\n",
    "locations = city_data_df[[\"Lat\", \"Lng\"]]\n",
    "# Get the maximum temperature.\n",
    "max_temp = city_data_df[\"Max Temp\"]\n",
    "# Assign the figure variable. # Add geographic center of earth and zoom level to display one map of earth\n",
    "fig = gmaps.figure(center=(30.0, 31.0), zoom_level=1.5) \n",
    "# Assign the heatmap variable.\n",
    "heat_layer = gmaps.heatmap_layer(locations, weights=max_temp, dissipating=False, max_intensity=300, point_radius=4)\n",
    "# Add the heatmap layer.\n",
    "fig.add_layer(heat_layer)\n",
    "\n",
    "# Call the figure to plot the data.\n",
    "fig"
   ]
  },
  {
   "cell_type": "code",
   "execution_count": 22,
   "metadata": {},
   "outputs": [
    {
     "output_type": "display_data",
     "data": {
      "text/plain": "Figure(layout=FigureLayout(height='420px'))",
      "application/vnd.jupyter.widget-view+json": {
       "version_major": 2,
       "version_minor": 0,
       "model_id": "488f3a427a5a4d59ac0c76ba1940188f"
      }
     },
     "metadata": {}
    }
   ],
   "source": [
    "# Heatmap of percent humidity\n",
    "# Get the latitude and longitude.\n",
    "locations = city_data_df[[\"Lat\", \"Lng\"]]\n",
    "# Get the humidity data\n",
    "humidity = city_data_df[\"Humidity\"]\n",
    "# Assign the figure variable. # Add geographic center of earth and zoom level to display one map of earth\n",
    "fig = gmaps.figure(center=(30.0, 31.0), zoom_level=1.5) \n",
    "# Assign the humidity variable.\n",
    "heat_layer = gmaps.heatmap_layer(locations, weights=humidity, dissipating=False, max_intensity=300, point_radius=4)\n",
    "# Add the heatmap layer.\n",
    "fig.add_layer(heat_layer)\n",
    "\n",
    "# Call the figure to plot the data.\n",
    "fig"
   ]
  },
  {
   "cell_type": "code",
   "execution_count": 23,
   "metadata": {},
   "outputs": [
    {
     "output_type": "display_data",
     "data": {
      "text/plain": "Figure(layout=FigureLayout(height='420px'))",
      "application/vnd.jupyter.widget-view+json": {
       "version_major": 2,
       "version_minor": 0,
       "model_id": "45429fa9242b44b09179e98949bfd066"
      }
     },
     "metadata": {}
    }
   ],
   "source": [
    "# Heatmap of percent cloudiness\n",
    "# Get the latitude and longitude.\n",
    "locations = city_data_df[[\"Lat\", \"Lng\"]]\n",
    "# Get the cloudiness data\n",
    "clouds = city_data_df[\"Cloudiness\"]\n",
    "# Assign the figure variable. # Add geographic center of earth and zoom level to display one map of earth\n",
    "fig = gmaps.figure(center=(30.0, 31.0), zoom_level=1.5) \n",
    "# Assign the humidity variable.\n",
    "heat_layer = gmaps.heatmap_layer(locations, weights=clouds, dissipating=False, max_intensity=300, point_radius=4)\n",
    "# Add the heatmap layer.\n",
    "fig.add_layer(heat_layer)\n",
    "\n",
    "# Call the figure to plot the data.\n",
    "fig"
   ]
  },
  {
   "cell_type": "code",
   "execution_count": 24,
   "metadata": {},
   "outputs": [
    {
     "output_type": "display_data",
     "data": {
      "text/plain": "Figure(layout=FigureLayout(height='420px'))",
      "application/vnd.jupyter.widget-view+json": {
       "version_major": 2,
       "version_minor": 0,
       "model_id": "a384cd57791f49cd8a015b0d5746e446"
      }
     },
     "metadata": {}
    }
   ],
   "source": [
    "# Heatmap of wind speed\n",
    "# Get the latitude and longitude.\n",
    "locations = city_data_df[[\"Lat\", \"Lng\"]]\n",
    "# Get the wind speed data\n",
    "wind = city_data_df[\"Wind Speed\"]\n",
    "# Assign the figure variable. # Add geographic center of earth and zoom level to display one map of earth\n",
    "fig = gmaps.figure(center=(30.0, 31.0), zoom_level=1.5) \n",
    "# Assign the wind speed variable.\n",
    "heat_layer = gmaps.heatmap_layer(locations, weights=wind, dissipating=False, max_intensity=300, point_radius=4)\n",
    "# Add the heatmap layer.\n",
    "fig.add_layer(heat_layer)\n",
    "\n",
    "# Call the figure to plot the data.\n",
    "fig"
   ]
  },
  {
   "cell_type": "code",
   "execution_count": 25,
   "metadata": {},
   "outputs": [],
   "source": [
    "# Ask the customer to add a minimum and maximum temperature value.\n",
    "min_temp = float(input(\"What is the minimum temperature you would like for your trip? \"))\n",
    "max_temp = float(input(\"What is the maximum temperature you would like for your trip? \"))"
   ]
  },
  {
   "cell_type": "code",
   "execution_count": 26,
   "metadata": {},
   "outputs": [
    {
     "output_type": "execute_result",
     "data": {
      "text/plain": "    City_ID                    City Country                 Date    Lat  \\\n0         0                  Sorong      ID  2020-07-11 23:11:34  -0.88   \n6         6                Victoria      HK  2020-07-11 23:08:17  22.29   \n9         9                Qui Nhon      VN  2020-07-11 23:11:42  13.77   \n14       14                Calabozo      VE  2020-07-11 23:11:47   8.92   \n15       15  Sao Miguel Do Araguaia      BR  2020-07-11 23:11:48 -13.28   \n16       16                  Faanui      PF  2020-07-11 23:11:49 -16.48   \n17       17              Shenjiamen      CN  2020-07-11 23:11:50  29.96   \n21       21             Chitrakonda      IN  2020-07-11 23:11:54  18.12   \n28       28                   Praia      CV  2020-07-11 23:12:02  14.92   \n32       32             Mancio Lima      BR  2020-07-11 23:12:08  -7.61   \n\n       Lng  Max Temp  Humidity  Cloudiness  Wind Speed  \n0   131.25     78.66        83         100        7.65  \n6   114.16     86.00        70          74        8.99  \n9   109.23     80.29        77         100        3.44  \n14  -67.43     77.29        88          55        2.64  \n15  -50.16     76.21        50          26        3.91  \n16 -151.75     78.21        76          20       17.92  \n17  122.30     78.37        90          92       24.67  \n21   82.08     75.43        84         100        1.14  \n28  -23.51     77.00        73          75       13.87  \n32  -72.90     84.20        62          20        2.24  ",
      "text/html": "<div>\n<style scoped>\n    .dataframe tbody tr th:only-of-type {\n        vertical-align: middle;\n    }\n\n    .dataframe tbody tr th {\n        vertical-align: top;\n    }\n\n    .dataframe thead th {\n        text-align: right;\n    }\n</style>\n<table border=\"1\" class=\"dataframe\">\n  <thead>\n    <tr style=\"text-align: right;\">\n      <th></th>\n      <th>City_ID</th>\n      <th>City</th>\n      <th>Country</th>\n      <th>Date</th>\n      <th>Lat</th>\n      <th>Lng</th>\n      <th>Max Temp</th>\n      <th>Humidity</th>\n      <th>Cloudiness</th>\n      <th>Wind Speed</th>\n    </tr>\n  </thead>\n  <tbody>\n    <tr>\n      <th>0</th>\n      <td>0</td>\n      <td>Sorong</td>\n      <td>ID</td>\n      <td>2020-07-11 23:11:34</td>\n      <td>-0.88</td>\n      <td>131.25</td>\n      <td>78.66</td>\n      <td>83</td>\n      <td>100</td>\n      <td>7.65</td>\n    </tr>\n    <tr>\n      <th>6</th>\n      <td>6</td>\n      <td>Victoria</td>\n      <td>HK</td>\n      <td>2020-07-11 23:08:17</td>\n      <td>22.29</td>\n      <td>114.16</td>\n      <td>86.00</td>\n      <td>70</td>\n      <td>74</td>\n      <td>8.99</td>\n    </tr>\n    <tr>\n      <th>9</th>\n      <td>9</td>\n      <td>Qui Nhon</td>\n      <td>VN</td>\n      <td>2020-07-11 23:11:42</td>\n      <td>13.77</td>\n      <td>109.23</td>\n      <td>80.29</td>\n      <td>77</td>\n      <td>100</td>\n      <td>3.44</td>\n    </tr>\n    <tr>\n      <th>14</th>\n      <td>14</td>\n      <td>Calabozo</td>\n      <td>VE</td>\n      <td>2020-07-11 23:11:47</td>\n      <td>8.92</td>\n      <td>-67.43</td>\n      <td>77.29</td>\n      <td>88</td>\n      <td>55</td>\n      <td>2.64</td>\n    </tr>\n    <tr>\n      <th>15</th>\n      <td>15</td>\n      <td>Sao Miguel Do Araguaia</td>\n      <td>BR</td>\n      <td>2020-07-11 23:11:48</td>\n      <td>-13.28</td>\n      <td>-50.16</td>\n      <td>76.21</td>\n      <td>50</td>\n      <td>26</td>\n      <td>3.91</td>\n    </tr>\n    <tr>\n      <th>16</th>\n      <td>16</td>\n      <td>Faanui</td>\n      <td>PF</td>\n      <td>2020-07-11 23:11:49</td>\n      <td>-16.48</td>\n      <td>-151.75</td>\n      <td>78.21</td>\n      <td>76</td>\n      <td>20</td>\n      <td>17.92</td>\n    </tr>\n    <tr>\n      <th>17</th>\n      <td>17</td>\n      <td>Shenjiamen</td>\n      <td>CN</td>\n      <td>2020-07-11 23:11:50</td>\n      <td>29.96</td>\n      <td>122.30</td>\n      <td>78.37</td>\n      <td>90</td>\n      <td>92</td>\n      <td>24.67</td>\n    </tr>\n    <tr>\n      <th>21</th>\n      <td>21</td>\n      <td>Chitrakonda</td>\n      <td>IN</td>\n      <td>2020-07-11 23:11:54</td>\n      <td>18.12</td>\n      <td>82.08</td>\n      <td>75.43</td>\n      <td>84</td>\n      <td>100</td>\n      <td>1.14</td>\n    </tr>\n    <tr>\n      <th>28</th>\n      <td>28</td>\n      <td>Praia</td>\n      <td>CV</td>\n      <td>2020-07-11 23:12:02</td>\n      <td>14.92</td>\n      <td>-23.51</td>\n      <td>77.00</td>\n      <td>73</td>\n      <td>75</td>\n      <td>13.87</td>\n    </tr>\n    <tr>\n      <th>32</th>\n      <td>32</td>\n      <td>Mancio Lima</td>\n      <td>BR</td>\n      <td>2020-07-11 23:12:08</td>\n      <td>-7.61</td>\n      <td>-72.90</td>\n      <td>84.20</td>\n      <td>62</td>\n      <td>20</td>\n      <td>2.24</td>\n    </tr>\n  </tbody>\n</table>\n</div>"
     },
     "metadata": {},
     "execution_count": 26
    }
   ],
   "source": [
    "# Filter the dataset to find the cities that fit the criteria.\n",
    "preferred_cities_df = city_data_df.loc[(city_data_df[\"Max Temp\"] <= max_temp) & (city_data_df[\"Max Temp\"] >= min_temp)]\n",
    "preferred_cities_df.head(10)"
   ]
  },
  {
   "cell_type": "code",
   "execution_count": 27,
   "metadata": {},
   "outputs": [
    {
     "output_type": "execute_result",
     "data": {
      "text/plain": "City_ID       181\nCity          181\nCountry       181\nDate          181\nLat           181\nLng           181\nMax Temp      181\nHumidity      181\nCloudiness    181\nWind Speed    181\ndtype: int64"
     },
     "metadata": {},
     "execution_count": 27
    }
   ],
   "source": [
    "preferred_cities_df.count()"
   ]
  },
  {
   "cell_type": "code",
   "execution_count": 29,
   "metadata": {},
   "outputs": [
    {
     "output_type": "execute_result",
     "data": {
      "text/plain": "                      City Country  Max Temp    Lat     Lng Hotel Name\n0                   Sorong      ID     78.66  -0.88  131.25           \n6                 Victoria      HK     86.00  22.29  114.16           \n9                 Qui Nhon      VN     80.29  13.77  109.23           \n14                Calabozo      VE     77.29   8.92  -67.43           \n15  Sao Miguel Do Araguaia      BR     76.21 -13.28  -50.16           \n16                  Faanui      PF     78.21 -16.48 -151.75           \n17              Shenjiamen      CN     78.37  29.96  122.30           \n21             Chitrakonda      IN     75.43  18.12   82.08           \n28                   Praia      CV     77.00  14.92  -23.51           \n32             Mancio Lima      BR     84.20  -7.61  -72.90           ",
      "text/html": "<div>\n<style scoped>\n    .dataframe tbody tr th:only-of-type {\n        vertical-align: middle;\n    }\n\n    .dataframe tbody tr th {\n        vertical-align: top;\n    }\n\n    .dataframe thead th {\n        text-align: right;\n    }\n</style>\n<table border=\"1\" class=\"dataframe\">\n  <thead>\n    <tr style=\"text-align: right;\">\n      <th></th>\n      <th>City</th>\n      <th>Country</th>\n      <th>Max Temp</th>\n      <th>Lat</th>\n      <th>Lng</th>\n      <th>Hotel Name</th>\n    </tr>\n  </thead>\n  <tbody>\n    <tr>\n      <th>0</th>\n      <td>Sorong</td>\n      <td>ID</td>\n      <td>78.66</td>\n      <td>-0.88</td>\n      <td>131.25</td>\n      <td></td>\n    </tr>\n    <tr>\n      <th>6</th>\n      <td>Victoria</td>\n      <td>HK</td>\n      <td>86.00</td>\n      <td>22.29</td>\n      <td>114.16</td>\n      <td></td>\n    </tr>\n    <tr>\n      <th>9</th>\n      <td>Qui Nhon</td>\n      <td>VN</td>\n      <td>80.29</td>\n      <td>13.77</td>\n      <td>109.23</td>\n      <td></td>\n    </tr>\n    <tr>\n      <th>14</th>\n      <td>Calabozo</td>\n      <td>VE</td>\n      <td>77.29</td>\n      <td>8.92</td>\n      <td>-67.43</td>\n      <td></td>\n    </tr>\n    <tr>\n      <th>15</th>\n      <td>Sao Miguel Do Araguaia</td>\n      <td>BR</td>\n      <td>76.21</td>\n      <td>-13.28</td>\n      <td>-50.16</td>\n      <td></td>\n    </tr>\n    <tr>\n      <th>16</th>\n      <td>Faanui</td>\n      <td>PF</td>\n      <td>78.21</td>\n      <td>-16.48</td>\n      <td>-151.75</td>\n      <td></td>\n    </tr>\n    <tr>\n      <th>17</th>\n      <td>Shenjiamen</td>\n      <td>CN</td>\n      <td>78.37</td>\n      <td>29.96</td>\n      <td>122.30</td>\n      <td></td>\n    </tr>\n    <tr>\n      <th>21</th>\n      <td>Chitrakonda</td>\n      <td>IN</td>\n      <td>75.43</td>\n      <td>18.12</td>\n      <td>82.08</td>\n      <td></td>\n    </tr>\n    <tr>\n      <th>28</th>\n      <td>Praia</td>\n      <td>CV</td>\n      <td>77.00</td>\n      <td>14.92</td>\n      <td>-23.51</td>\n      <td></td>\n    </tr>\n    <tr>\n      <th>32</th>\n      <td>Mancio Lima</td>\n      <td>BR</td>\n      <td>84.20</td>\n      <td>-7.61</td>\n      <td>-72.90</td>\n      <td></td>\n    </tr>\n  </tbody>\n</table>\n</div>"
     },
     "metadata": {},
     "execution_count": 29
    }
   ],
   "source": [
    "# Create DF called hotel_df to store hotel names with city, country, max temp, and coordinates\n",
    "hotel_df = preferred_cities_df[[\"City\", \"Country\", \"Max Temp\", \"Lat\", \"Lng\"]].copy()\n",
    "hotel_df[\"Hotel Name\"] = \"\"\n",
    "hotel_df.head(10)"
   ]
  },
  {
   "cell_type": "code",
   "execution_count": 30,
   "metadata": {},
   "outputs": [],
   "source": [
    "# Set parameters to search for a hotel\n",
    "params = {\n",
    "    \"radius\": 5000,\n",
    "    \"type\": \"lodging\",\n",
    "    \"key\": g_key\n",
    "}"
   ]
  },
  {
   "cell_type": "code",
   "execution_count": 34,
   "metadata": {
    "tags": []
   },
   "outputs": [
    {
     "output_type": "stream",
     "name": "stdout",
     "text": "Hotel not found... skipping.\nHotel not found... skipping.\nHotel not found... skipping.\nHotel not found... skipping.\nHotel not found... skipping.\nHotel not found... skipping.\nHotel not found... skipping.\nHotel not found... skipping.\nHotel not found... skipping.\nHotel not found... skipping.\nHotel not found... skipping.\nHotel not found... skipping.\nHotel not found... skipping.\n"
    },
    {
     "output_type": "execute_result",
     "data": {
      "text/plain": "                      City Country  Max Temp    Lat     Lng  \\\n0                   Sorong      ID     78.66  -0.88  131.25   \n6                 Victoria      HK     86.00  22.29  114.16   \n9                 Qui Nhon      VN     80.29  13.77  109.23   \n14                Calabozo      VE     77.29   8.92  -67.43   \n15  Sao Miguel Do Araguaia      BR     76.21 -13.28  -50.16   \n16                  Faanui      PF     78.21 -16.48 -151.75   \n17              Shenjiamen      CN     78.37  29.96  122.30   \n21             Chitrakonda      IN     75.43  18.12   82.08   \n28                   Praia      CV     77.00  14.92  -23.51   \n32             Mancio Lima      BR     84.20  -7.61  -72.90   \n\n                                   Hotel Name  \n0                             The Waigo Hotel  \n6                          Mini Hotel Central  \n9   Khách sạn Hải Âu Quy Nhơn - Seagull Hotel  \n14                             Hotel Giardini  \n15                     Hotel Executivo Palace  \n16         Bora-Bora Pearl Beach Resort & Spa  \n17     Jinjiang Inn Zhoushan Putuo Shenjiamen  \n21                    Government girls hostel  \n28                              LT Aparthotel  \n32               Hotel e Distribuidora Voyage  ",
      "text/html": "<div>\n<style scoped>\n    .dataframe tbody tr th:only-of-type {\n        vertical-align: middle;\n    }\n\n    .dataframe tbody tr th {\n        vertical-align: top;\n    }\n\n    .dataframe thead th {\n        text-align: right;\n    }\n</style>\n<table border=\"1\" class=\"dataframe\">\n  <thead>\n    <tr style=\"text-align: right;\">\n      <th></th>\n      <th>City</th>\n      <th>Country</th>\n      <th>Max Temp</th>\n      <th>Lat</th>\n      <th>Lng</th>\n      <th>Hotel Name</th>\n    </tr>\n  </thead>\n  <tbody>\n    <tr>\n      <th>0</th>\n      <td>Sorong</td>\n      <td>ID</td>\n      <td>78.66</td>\n      <td>-0.88</td>\n      <td>131.25</td>\n      <td>The Waigo Hotel</td>\n    </tr>\n    <tr>\n      <th>6</th>\n      <td>Victoria</td>\n      <td>HK</td>\n      <td>86.00</td>\n      <td>22.29</td>\n      <td>114.16</td>\n      <td>Mini Hotel Central</td>\n    </tr>\n    <tr>\n      <th>9</th>\n      <td>Qui Nhon</td>\n      <td>VN</td>\n      <td>80.29</td>\n      <td>13.77</td>\n      <td>109.23</td>\n      <td>Khách sạn Hải Âu Quy Nhơn - Seagull Hotel</td>\n    </tr>\n    <tr>\n      <th>14</th>\n      <td>Calabozo</td>\n      <td>VE</td>\n      <td>77.29</td>\n      <td>8.92</td>\n      <td>-67.43</td>\n      <td>Hotel Giardini</td>\n    </tr>\n    <tr>\n      <th>15</th>\n      <td>Sao Miguel Do Araguaia</td>\n      <td>BR</td>\n      <td>76.21</td>\n      <td>-13.28</td>\n      <td>-50.16</td>\n      <td>Hotel Executivo Palace</td>\n    </tr>\n    <tr>\n      <th>16</th>\n      <td>Faanui</td>\n      <td>PF</td>\n      <td>78.21</td>\n      <td>-16.48</td>\n      <td>-151.75</td>\n      <td>Bora-Bora Pearl Beach Resort &amp; Spa</td>\n    </tr>\n    <tr>\n      <th>17</th>\n      <td>Shenjiamen</td>\n      <td>CN</td>\n      <td>78.37</td>\n      <td>29.96</td>\n      <td>122.30</td>\n      <td>Jinjiang Inn Zhoushan Putuo Shenjiamen</td>\n    </tr>\n    <tr>\n      <th>21</th>\n      <td>Chitrakonda</td>\n      <td>IN</td>\n      <td>75.43</td>\n      <td>18.12</td>\n      <td>82.08</td>\n      <td>Government girls hostel</td>\n    </tr>\n    <tr>\n      <th>28</th>\n      <td>Praia</td>\n      <td>CV</td>\n      <td>77.00</td>\n      <td>14.92</td>\n      <td>-23.51</td>\n      <td>LT Aparthotel</td>\n    </tr>\n    <tr>\n      <th>32</th>\n      <td>Mancio Lima</td>\n      <td>BR</td>\n      <td>84.20</td>\n      <td>-7.61</td>\n      <td>-72.90</td>\n      <td>Hotel e Distribuidora Voyage</td>\n    </tr>\n  </tbody>\n</table>\n</div>"
     },
     "metadata": {},
     "execution_count": 34
    }
   ],
   "source": [
    "# Iterate through the Dataframe\n",
    "for index, row in hotel_df.iterrows():\n",
    "    # Get lat and lng\n",
    "    lat = row[\"Lat\"]\n",
    "    lng = row[\"Lng\"]\n",
    "\n",
    "    # Add lat and lng to location key for params dictionary\n",
    "    params[\"location\"] = f\"{lat},{lng}\"\n",
    "    \n",
    "    # Use search term: \"lodging\" and our lat and lng\n",
    "    base_url = \"https://maps.googleapis.com/maps/api/place/nearbysearch/json\"\n",
    "    # Make request and get the JSON data from the search.\n",
    "    hotels = requests.get(base_url, params=params).json()\n",
    "    # Grab the first hotel from the results and store the name.\n",
    "    try:\n",
    "        hotel_df.loc[index, \"Hotel Name\"] = hotels[\"results\"][0][\"name\"]\n",
    "    except (IndexError):\n",
    "        print(\"Hotel not found... skipping.\")\n",
    "hotel_df.head(10)"
   ]
  },
  {
   "cell_type": "code",
   "execution_count": 39,
   "metadata": {},
   "outputs": [
    {
     "output_type": "display_data",
     "data": {
      "text/plain": "Figure(layout=FigureLayout(height='420px'))",
      "application/vnd.jupyter.widget-view+json": {
       "version_major": 2,
       "version_minor": 0,
       "model_id": "3437e4b99cb7460b85dc7a5be9874c6a"
      }
     },
     "metadata": {}
    }
   ],
   "source": [
    "# Add a heatmap of temperature for the vacation spots.\n",
    "locations = hotel_df[[\"Lat\", \"Lng\"]]\n",
    "max_temp = hotel_df[\"Max Temp\"]\n",
    "fig = gmaps.figure(center=(30.0, 31.0), zoom_level=1.5)\n",
    "heat_layer = gmaps.heatmap_layer(locations, weights=max_temp, dissipating=False,\n",
    "             max_intensity=300, point_radius=4)\n",
    "marker_layer = gmaps.marker_layer(locations,info_box_content=hotel_info)\n",
    "fig.add_layer(heat_layer)\n",
    "fig.add_layer(marker_layer)\n",
    "# Call the figure to plot the data.\n",
    "fig"
   ]
  },
  {
   "cell_type": "code",
   "execution_count": 37,
   "metadata": {},
   "outputs": [],
   "source": [
    "info_box_template = \"\"\"\n",
    "<dl>\n",
    "<dt>Hotel Name</dt><dd>{Hotel Name}</dd>\n",
    "<dt>City</dt><dd>{City}</dd>\n",
    "<dt>Country</dt><dd>{Country}</dd>\n",
    "<dt>Max Temp</dt><dd>{Max Temp} °F</dd>\n",
    "</dl>\n",
    "\"\"\""
   ]
  },
  {
   "cell_type": "code",
   "execution_count": 38,
   "metadata": {},
   "outputs": [],
   "source": [
    "# Store dataframe row\n",
    "hotel_info = [info_box_template.format(**row) for index, row in hotel_df.iterrows()]"
   ]
  },
  {
   "cell_type": "code",
   "execution_count": null,
   "metadata": {},
   "outputs": [],
   "source": []
  }
 ],
 "metadata": {
  "kernelspec": {
   "name": "python_defaultSpec_1594586633696",
   "display_name": "Python 3.7.7 64-bit ('PythonData1': conda)"
  }
 },
 "nbformat": 4,
 "nbformat_minor": 4
}