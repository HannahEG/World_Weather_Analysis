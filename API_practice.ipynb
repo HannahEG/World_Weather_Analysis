{
 "cells": [
  {
   "cell_type": "code",
   "execution_count": 29,
   "metadata": {},
   "outputs": [],
   "source": [
    "# Create a practice set of random latitude and longitude combinations.\n",
    "x = [25.12903645, 25.92017388, 26.62509167, -59.98969384, 37.30571269]\n",
    "y = [-67.59741259, 11.09532135, 74.84233102, -76.89176677, -61.13376282]\n",
    "coordinates = zip(x, y)"
   ]
  },
  {
   "cell_type": "code",
   "execution_count": 31,
   "metadata": {},
   "outputs": [
    {
     "output_type": "execute_result",
     "data": {
      "text/plain": "<citipy.citipy.City at 0x109836850>"
     },
     "metadata": {},
     "execution_count": 31
    }
   ],
   "source": [
    "# Use citipy module to determine city based on latitude and longitude\n",
    "from citipy import citipy\n",
    "city = citipy.nearest_city(22.99, 120.21)\n",
    "city"
   ]
  },
  {
   "cell_type": "code",
   "execution_count": 32,
   "metadata": {
    "tags": []
   },
   "outputs": [
    {
     "output_type": "stream",
     "name": "stdout",
     "text": "cockburn town tc\ngat ly\nparvatsar in\npunta arenas cl\nsaint george bm\n"
    }
   ],
   "source": [
    "# use tuple function to display latitude and longitude combinations\n",
    "for coordinate in coordinates:\n",
    "    print(citipy.nearest_city(coordinate[0], coordinate[1]).city_name,\n",
    "          citipy.nearest_city(coordinate[0], coordinate[1]).country_code)"
   ]
  },
  {
   "cell_type": "code",
   "execution_count": null,
   "metadata": {},
   "outputs": [],
   "source": []
  }
 ],
 "metadata": {
  "kernelspec": {
   "name": "hannah-pythondata1",
   "display_name": "PythonData1"
  }
 },
 "nbformat": 4,
 "nbformat_minor": 4
}