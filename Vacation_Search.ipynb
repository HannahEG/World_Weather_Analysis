{
 "cells": [
  {
   "cell_type": "code",
   "execution_count": 1,
   "metadata": {},
   "outputs": [],
   "source": [
    "# import dependencies\n",
    "import pandas as pd \n",
    "import gmaps \n",
    "import requests \n",
    "#import api key\n",
    "from config1 import g_key"
   ]
  },
  {
   "cell_type": "code",
   "execution_count": 2,
   "metadata": {},
   "outputs": [
    {
     "output_type": "execute_result",
     "data": {
      "text/plain": "   City_ID             City Country                 Date    Lat     Lng  \\\n0        0          Rikitea      PF  2020-07-13 01:46:32 -23.12 -134.97   \n1        1  Charters Towers      AU  2020-07-13 01:46:32 -20.10  146.27   \n2        2            Vaini      TO  2020-07-13 01:46:33 -21.20 -175.20   \n3        3        Cape Town      ZA  2020-07-13 01:54:16 -33.93   18.42   \n4        4          Mataura      NZ  2020-07-13 01:54:32 -46.19  168.86   \n\n   Max Temp  Humidity  Cloudiness  Wind Speed          Weather Description  \\\n0     70.93        75          54       13.18                broken clouds   \n1     66.83        30          39       16.58             scattered clouds   \n2     77.00        78          75       17.22  light intensity shower rain   \n3     59.00        67          75       31.09                broken clouds   \n4     45.00        83          83        4.92                broken clouds   \n\n   Rainfall  Snowfall  \n0       0.0         0  \n1       0.0         0  \n2       0.0         0  \n3       0.0         0  \n4       0.0         0  ",
      "text/html": "<div>\n<style scoped>\n    .dataframe tbody tr th:only-of-type {\n        vertical-align: middle;\n    }\n\n    .dataframe tbody tr th {\n        vertical-align: top;\n    }\n\n    .dataframe thead th {\n        text-align: right;\n    }\n</style>\n<table border=\"1\" class=\"dataframe\">\n  <thead>\n    <tr style=\"text-align: right;\">\n      <th></th>\n      <th>City_ID</th>\n      <th>City</th>\n      <th>Country</th>\n      <th>Date</th>\n      <th>Lat</th>\n      <th>Lng</th>\n      <th>Max Temp</th>\n      <th>Humidity</th>\n      <th>Cloudiness</th>\n      <th>Wind Speed</th>\n      <th>Weather Description</th>\n      <th>Rainfall</th>\n      <th>Snowfall</th>\n    </tr>\n  </thead>\n  <tbody>\n    <tr>\n      <th>0</th>\n      <td>0</td>\n      <td>Rikitea</td>\n      <td>PF</td>\n      <td>2020-07-13 01:46:32</td>\n      <td>-23.12</td>\n      <td>-134.97</td>\n      <td>70.93</td>\n      <td>75</td>\n      <td>54</td>\n      <td>13.18</td>\n      <td>broken clouds</td>\n      <td>0.0</td>\n      <td>0</td>\n    </tr>\n    <tr>\n      <th>1</th>\n      <td>1</td>\n      <td>Charters Towers</td>\n      <td>AU</td>\n      <td>2020-07-13 01:46:32</td>\n      <td>-20.10</td>\n      <td>146.27</td>\n      <td>66.83</td>\n      <td>30</td>\n      <td>39</td>\n      <td>16.58</td>\n      <td>scattered clouds</td>\n      <td>0.0</td>\n      <td>0</td>\n    </tr>\n    <tr>\n      <th>2</th>\n      <td>2</td>\n      <td>Vaini</td>\n      <td>TO</td>\n      <td>2020-07-13 01:46:33</td>\n      <td>-21.20</td>\n      <td>-175.20</td>\n      <td>77.00</td>\n      <td>78</td>\n      <td>75</td>\n      <td>17.22</td>\n      <td>light intensity shower rain</td>\n      <td>0.0</td>\n      <td>0</td>\n    </tr>\n    <tr>\n      <th>3</th>\n      <td>3</td>\n      <td>Cape Town</td>\n      <td>ZA</td>\n      <td>2020-07-13 01:54:16</td>\n      <td>-33.93</td>\n      <td>18.42</td>\n      <td>59.00</td>\n      <td>67</td>\n      <td>75</td>\n      <td>31.09</td>\n      <td>broken clouds</td>\n      <td>0.0</td>\n      <td>0</td>\n    </tr>\n    <tr>\n      <th>4</th>\n      <td>4</td>\n      <td>Mataura</td>\n      <td>NZ</td>\n      <td>2020-07-13 01:54:32</td>\n      <td>-46.19</td>\n      <td>168.86</td>\n      <td>45.00</td>\n      <td>83</td>\n      <td>83</td>\n      <td>4.92</td>\n      <td>broken clouds</td>\n      <td>0.0</td>\n      <td>0</td>\n    </tr>\n  </tbody>\n</table>\n</div>"
     },
     "metadata": {},
     "execution_count": 2
    }
   ],
   "source": [
    "# store cities csv into a dataframe\n",
    "city_data_df = pd.read_csv(\"weather_data/WeatherPy_database.csv\")\n",
    "city_data_df.head()"
   ]
  },
  {
   "cell_type": "code",
   "execution_count": 3,
   "metadata": {},
   "outputs": [
    {
     "output_type": "execute_result",
     "data": {
      "text/plain": "City_ID                  int64\nCity                    object\nCountry                 object\nDate                    object\nLat                    float64\nLng                    float64\nMax Temp               float64\nHumidity                 int64\nCloudiness               int64\nWind Speed             float64\nWeather Description     object\nRainfall               float64\nSnowfall                 int64\ndtype: object"
     },
     "metadata": {},
     "execution_count": 3
    }
   ],
   "source": [
    "city_data_df.dtypes"
   ]
  },
  {
   "cell_type": "code",
   "execution_count": 13,
   "metadata": {},
   "outputs": [],
   "source": [
    "# Prompt the customer to add a minimum and maximum temperature value.\n",
    "min_temp = float(input(\"What is the minimum temperature you would like for your trip? \"))\n",
    "max_temp = float(input(\"What is the maximum temperature you would like for your trip? \"))\n",
    "rainfall = input(\"Do you want it to be raining? (yes/no) \")\n",
    "snowfall = input(\"Do you want it to be snowing? (yes/no) \")"
   ]
  },
  {
   "cell_type": "code",
   "execution_count": 16,
   "metadata": {},
   "outputs": [
    {
     "output_type": "execute_result",
     "data": {
      "text/plain": "    City_ID              City Country                 Date    Lat     Lng  \\\n2         2             Vaini      TO  2020-07-13 01:46:33 -21.20 -175.20   \n7         7  Nizhniy Kuranakh      RU  2020-07-13 01:49:44  58.84  125.49   \n10       10     Cockburn Town      TC  2020-07-13 01:46:36  21.46  -71.14   \n13       13              Mayo      US  2020-07-13 01:54:34  38.89  -76.51   \n17       17            Tiarei      PF  2020-07-13 01:49:54 -17.53 -149.33   \n\n    Max Temp  Humidity  Cloudiness  Wind Speed          Weather Description  \\\n2      77.00        78          75       17.22  light intensity shower rain   \n7      88.61        40          63        3.89                broken clouds   \n10     83.23        79           0       15.73                    clear sky   \n13     82.40        65          20       10.29                   few clouds   \n17     80.60        69          75       16.11                broken clouds   \n\n    Rainfall  Snowfall  \n2        0.0         0  \n7        0.0         0  \n10       0.0         0  \n13       0.0         0  \n17       0.0         0  ",
      "text/html": "<div>\n<style scoped>\n    .dataframe tbody tr th:only-of-type {\n        vertical-align: middle;\n    }\n\n    .dataframe tbody tr th {\n        vertical-align: top;\n    }\n\n    .dataframe thead th {\n        text-align: right;\n    }\n</style>\n<table border=\"1\" class=\"dataframe\">\n  <thead>\n    <tr style=\"text-align: right;\">\n      <th></th>\n      <th>City_ID</th>\n      <th>City</th>\n      <th>Country</th>\n      <th>Date</th>\n      <th>Lat</th>\n      <th>Lng</th>\n      <th>Max Temp</th>\n      <th>Humidity</th>\n      <th>Cloudiness</th>\n      <th>Wind Speed</th>\n      <th>Weather Description</th>\n      <th>Rainfall</th>\n      <th>Snowfall</th>\n    </tr>\n  </thead>\n  <tbody>\n    <tr>\n      <th>2</th>\n      <td>2</td>\n      <td>Vaini</td>\n      <td>TO</td>\n      <td>2020-07-13 01:46:33</td>\n      <td>-21.20</td>\n      <td>-175.20</td>\n      <td>77.00</td>\n      <td>78</td>\n      <td>75</td>\n      <td>17.22</td>\n      <td>light intensity shower rain</td>\n      <td>0.0</td>\n      <td>0</td>\n    </tr>\n    <tr>\n      <th>7</th>\n      <td>7</td>\n      <td>Nizhniy Kuranakh</td>\n      <td>RU</td>\n      <td>2020-07-13 01:49:44</td>\n      <td>58.84</td>\n      <td>125.49</td>\n      <td>88.61</td>\n      <td>40</td>\n      <td>63</td>\n      <td>3.89</td>\n      <td>broken clouds</td>\n      <td>0.0</td>\n      <td>0</td>\n    </tr>\n    <tr>\n      <th>10</th>\n      <td>10</td>\n      <td>Cockburn Town</td>\n      <td>TC</td>\n      <td>2020-07-13 01:46:36</td>\n      <td>21.46</td>\n      <td>-71.14</td>\n      <td>83.23</td>\n      <td>79</td>\n      <td>0</td>\n      <td>15.73</td>\n      <td>clear sky</td>\n      <td>0.0</td>\n      <td>0</td>\n    </tr>\n    <tr>\n      <th>13</th>\n      <td>13</td>\n      <td>Mayo</td>\n      <td>US</td>\n      <td>2020-07-13 01:54:34</td>\n      <td>38.89</td>\n      <td>-76.51</td>\n      <td>82.40</td>\n      <td>65</td>\n      <td>20</td>\n      <td>10.29</td>\n      <td>few clouds</td>\n      <td>0.0</td>\n      <td>0</td>\n    </tr>\n    <tr>\n      <th>17</th>\n      <td>17</td>\n      <td>Tiarei</td>\n      <td>PF</td>\n      <td>2020-07-13 01:49:54</td>\n      <td>-17.53</td>\n      <td>-149.33</td>\n      <td>80.60</td>\n      <td>69</td>\n      <td>75</td>\n      <td>16.11</td>\n      <td>broken clouds</td>\n      <td>0.0</td>\n      <td>0</td>\n    </tr>\n  </tbody>\n</table>\n</div>"
     },
     "metadata": {},
     "execution_count": 16
    }
   ],
   "source": [
    "# Filter the dataset to find the cities that fit the criteria.\n",
    "preferred_cities_df = city_data_df.loc[(city_data_df[\"Max Temp\"] <= max_temp) & \n",
    "                    (city_data_df[\"Max Temp\"] >= min_temp) & \n",
    "                    (city_data_df[\"Rainfall\"]==0 \n",
    "                    if rainfall == \"no\"\n",
    "                    else city_data_df[\"Rainfall\"] > 0) & \n",
    "                    (city_data_df[\"Snowfall\"]==0 \n",
    "                    if snowfall == \"no\" \n",
    "                    else city_data_df[\"Snowfall\"] > 0)]\n",
    "preferred_cities_df.head()"
   ]
  },
  {
   "cell_type": "code",
   "execution_count": 17,
   "metadata": {},
   "outputs": [
    {
     "output_type": "execute_result",
     "data": {
      "text/plain": "177"
     },
     "metadata": {},
     "execution_count": 17
    }
   ],
   "source": [
    "len(preferred_cities_df)"
   ]
  },
  {
   "cell_type": "code",
   "execution_count": 18,
   "metadata": {},
   "outputs": [],
   "source": [
    "# Configure gmaps to use google api key\n",
    "gmaps.configure(api_key=g_key)"
   ]
  },
  {
   "cell_type": "code",
   "execution_count": 21,
   "metadata": {},
   "outputs": [
    {
     "output_type": "execute_result",
     "data": {
      "text/plain": "                City Country  Max Temp    Lat     Lng  \\\n2              Vaini      TO     77.00 -21.20 -175.20   \n7   Nizhniy Kuranakh      RU     88.61  58.84  125.49   \n10     Cockburn Town      TC     83.23  21.46  -71.14   \n13              Mayo      US     82.40  38.89  -76.51   \n17            Tiarei      PF     80.60 -17.53 -149.33   \n18          Umm Lajj      SA     81.88  25.02   37.27   \n27          Tateyama      JP     75.99  34.98  139.87   \n31         Hithadhoo      MV     84.43  -0.60   73.08   \n32         Thinadhoo      MV     84.99   0.53   72.93   \n35           Oistins      BB     82.40  13.07  -59.53   \n\n            Weather Description  Rainfall  Snowfall Hotel Name  \n2   light intensity shower rain       0.0         0             \n7                 broken clouds       0.0         0             \n10                    clear sky       0.0         0             \n13                   few clouds       0.0         0             \n17                broken clouds       0.0         0             \n18                broken clouds       0.0         0             \n27                broken clouds       0.0         0             \n31             scattered clouds       0.0         0             \n32                broken clouds       0.0         0             \n35             scattered clouds       0.0         0             ",
      "text/html": "<div>\n<style scoped>\n    .dataframe tbody tr th:only-of-type {\n        vertical-align: middle;\n    }\n\n    .dataframe tbody tr th {\n        vertical-align: top;\n    }\n\n    .dataframe thead th {\n        text-align: right;\n    }\n</style>\n<table border=\"1\" class=\"dataframe\">\n  <thead>\n    <tr style=\"text-align: right;\">\n      <th></th>\n      <th>City</th>\n      <th>Country</th>\n      <th>Max Temp</th>\n      <th>Lat</th>\n      <th>Lng</th>\n      <th>Weather Description</th>\n      <th>Rainfall</th>\n      <th>Snowfall</th>\n      <th>Hotel Name</th>\n    </tr>\n  </thead>\n  <tbody>\n    <tr>\n      <th>2</th>\n      <td>Vaini</td>\n      <td>TO</td>\n      <td>77.00</td>\n      <td>-21.20</td>\n      <td>-175.20</td>\n      <td>light intensity shower rain</td>\n      <td>0.0</td>\n      <td>0</td>\n      <td></td>\n    </tr>\n    <tr>\n      <th>7</th>\n      <td>Nizhniy Kuranakh</td>\n      <td>RU</td>\n      <td>88.61</td>\n      <td>58.84</td>\n      <td>125.49</td>\n      <td>broken clouds</td>\n      <td>0.0</td>\n      <td>0</td>\n      <td></td>\n    </tr>\n    <tr>\n      <th>10</th>\n      <td>Cockburn Town</td>\n      <td>TC</td>\n      <td>83.23</td>\n      <td>21.46</td>\n      <td>-71.14</td>\n      <td>clear sky</td>\n      <td>0.0</td>\n      <td>0</td>\n      <td></td>\n    </tr>\n    <tr>\n      <th>13</th>\n      <td>Mayo</td>\n      <td>US</td>\n      <td>82.40</td>\n      <td>38.89</td>\n      <td>-76.51</td>\n      <td>few clouds</td>\n      <td>0.0</td>\n      <td>0</td>\n      <td></td>\n    </tr>\n    <tr>\n      <th>17</th>\n      <td>Tiarei</td>\n      <td>PF</td>\n      <td>80.60</td>\n      <td>-17.53</td>\n      <td>-149.33</td>\n      <td>broken clouds</td>\n      <td>0.0</td>\n      <td>0</td>\n      <td></td>\n    </tr>\n    <tr>\n      <th>18</th>\n      <td>Umm Lajj</td>\n      <td>SA</td>\n      <td>81.88</td>\n      <td>25.02</td>\n      <td>37.27</td>\n      <td>broken clouds</td>\n      <td>0.0</td>\n      <td>0</td>\n      <td></td>\n    </tr>\n    <tr>\n      <th>27</th>\n      <td>Tateyama</td>\n      <td>JP</td>\n      <td>75.99</td>\n      <td>34.98</td>\n      <td>139.87</td>\n      <td>broken clouds</td>\n      <td>0.0</td>\n      <td>0</td>\n      <td></td>\n    </tr>\n    <tr>\n      <th>31</th>\n      <td>Hithadhoo</td>\n      <td>MV</td>\n      <td>84.43</td>\n      <td>-0.60</td>\n      <td>73.08</td>\n      <td>scattered clouds</td>\n      <td>0.0</td>\n      <td>0</td>\n      <td></td>\n    </tr>\n    <tr>\n      <th>32</th>\n      <td>Thinadhoo</td>\n      <td>MV</td>\n      <td>84.99</td>\n      <td>0.53</td>\n      <td>72.93</td>\n      <td>broken clouds</td>\n      <td>0.0</td>\n      <td>0</td>\n      <td></td>\n    </tr>\n    <tr>\n      <th>35</th>\n      <td>Oistins</td>\n      <td>BB</td>\n      <td>82.40</td>\n      <td>13.07</td>\n      <td>-59.53</td>\n      <td>scattered clouds</td>\n      <td>0.0</td>\n      <td>0</td>\n      <td></td>\n    </tr>\n  </tbody>\n</table>\n</div>"
     },
     "metadata": {},
     "execution_count": 21
    }
   ],
   "source": [
    "# Create DF called hotel_df to store hotel names with city, country, max temp, and coordinates\n",
    "hotel_df = preferred_cities_df[[\"City\", \"Country\", \"Max Temp\", \"Lat\", \"Lng\", \"Weather Description\", \"Rainfall\", \"Snowfall\"]].copy()\n",
    "hotel_df[\"Hotel Name\"] = \"\"\n",
    "hotel_df.head(10)"
   ]
  },
  {
   "cell_type": "code",
   "execution_count": 22,
   "metadata": {},
   "outputs": [],
   "source": [
    "# Set parameters to search for a hotel\n",
    "params = {\n",
    "    \"radius\": 5000,\n",
    "    \"type\": \"lodging\",\n",
    "    \"key\": g_key\n",
    "}"
   ]
  },
  {
   "cell_type": "code",
   "execution_count": 23,
   "metadata": {
    "tags": []
   },
   "outputs": [
    {
     "output_type": "stream",
     "name": "stdout",
     "text": "Hotel not found... skipping.\nHotel not found... skipping.\nHotel not found... skipping.\nHotel not found... skipping.\nHotel not found... skipping.\nHotel not found... skipping.\nHotel not found... skipping.\nHotel not found... skipping.\nHotel not found... skipping.\nHotel not found... skipping.\nHotel not found... skipping.\nHotel not found... skipping.\nHotel not found... skipping.\nHotel not found... skipping.\nHotel not found... skipping.\nHotel not found... skipping.\n"
    },
    {
     "output_type": "execute_result",
     "data": {
      "text/plain": "                City Country  Max Temp    Lat     Lng  \\\n2              Vaini      TO     77.00 -21.20 -175.20   \n7   Nizhniy Kuranakh      RU     88.61  58.84  125.49   \n10     Cockburn Town      TC     83.23  21.46  -71.14   \n13              Mayo      US     82.40  38.89  -76.51   \n17            Tiarei      PF     80.60 -17.53 -149.33   \n18          Umm Lajj      SA     81.88  25.02   37.27   \n27          Tateyama      JP     75.99  34.98  139.87   \n31         Hithadhoo      MV     84.43  -0.60   73.08   \n32         Thinadhoo      MV     84.99   0.53   72.93   \n35           Oistins      BB     82.40  13.07  -59.53   \n\n            Weather Description  Rainfall  Snowfall  \\\n2   light intensity shower rain       0.0         0   \n7                 broken clouds       0.0         0   \n10                    clear sky       0.0         0   \n13                   few clouds       0.0         0   \n17                broken clouds       0.0         0   \n18                broken clouds       0.0         0   \n27                broken clouds       0.0         0   \n31             scattered clouds       0.0         0   \n32                broken clouds       0.0         0   \n35             scattered clouds       0.0         0   \n\n                              Hotel Name  \n2                    Keleti Beach Resort  \n7                            Park Pobedy  \n10                    Osprey Beach Hotel  \n13  Resorts Resource Group International  \n17                   Le Rocher de Tahiti  \n18            Moon light Furnished Units  \n27                Tateyama Seaside Hotel  \n31                     Scoop Guest House  \n32                                        \n35                 Butterfly Beach Hotel  ",
      "text/html": "<div>\n<style scoped>\n    .dataframe tbody tr th:only-of-type {\n        vertical-align: middle;\n    }\n\n    .dataframe tbody tr th {\n        vertical-align: top;\n    }\n\n    .dataframe thead th {\n        text-align: right;\n    }\n</style>\n<table border=\"1\" class=\"dataframe\">\n  <thead>\n    <tr style=\"text-align: right;\">\n      <th></th>\n      <th>City</th>\n      <th>Country</th>\n      <th>Max Temp</th>\n      <th>Lat</th>\n      <th>Lng</th>\n      <th>Weather Description</th>\n      <th>Rainfall</th>\n      <th>Snowfall</th>\n      <th>Hotel Name</th>\n    </tr>\n  </thead>\n  <tbody>\n    <tr>\n      <th>2</th>\n      <td>Vaini</td>\n      <td>TO</td>\n      <td>77.00</td>\n      <td>-21.20</td>\n      <td>-175.20</td>\n      <td>light intensity shower rain</td>\n      <td>0.0</td>\n      <td>0</td>\n      <td>Keleti Beach Resort</td>\n    </tr>\n    <tr>\n      <th>7</th>\n      <td>Nizhniy Kuranakh</td>\n      <td>RU</td>\n      <td>88.61</td>\n      <td>58.84</td>\n      <td>125.49</td>\n      <td>broken clouds</td>\n      <td>0.0</td>\n      <td>0</td>\n      <td>Park Pobedy</td>\n    </tr>\n    <tr>\n      <th>10</th>\n      <td>Cockburn Town</td>\n      <td>TC</td>\n      <td>83.23</td>\n      <td>21.46</td>\n      <td>-71.14</td>\n      <td>clear sky</td>\n      <td>0.0</td>\n      <td>0</td>\n      <td>Osprey Beach Hotel</td>\n    </tr>\n    <tr>\n      <th>13</th>\n      <td>Mayo</td>\n      <td>US</td>\n      <td>82.40</td>\n      <td>38.89</td>\n      <td>-76.51</td>\n      <td>few clouds</td>\n      <td>0.0</td>\n      <td>0</td>\n      <td>Resorts Resource Group International</td>\n    </tr>\n    <tr>\n      <th>17</th>\n      <td>Tiarei</td>\n      <td>PF</td>\n      <td>80.60</td>\n      <td>-17.53</td>\n      <td>-149.33</td>\n      <td>broken clouds</td>\n      <td>0.0</td>\n      <td>0</td>\n      <td>Le Rocher de Tahiti</td>\n    </tr>\n    <tr>\n      <th>18</th>\n      <td>Umm Lajj</td>\n      <td>SA</td>\n      <td>81.88</td>\n      <td>25.02</td>\n      <td>37.27</td>\n      <td>broken clouds</td>\n      <td>0.0</td>\n      <td>0</td>\n      <td>Moon light Furnished Units</td>\n    </tr>\n    <tr>\n      <th>27</th>\n      <td>Tateyama</td>\n      <td>JP</td>\n      <td>75.99</td>\n      <td>34.98</td>\n      <td>139.87</td>\n      <td>broken clouds</td>\n      <td>0.0</td>\n      <td>0</td>\n      <td>Tateyama Seaside Hotel</td>\n    </tr>\n    <tr>\n      <th>31</th>\n      <td>Hithadhoo</td>\n      <td>MV</td>\n      <td>84.43</td>\n      <td>-0.60</td>\n      <td>73.08</td>\n      <td>scattered clouds</td>\n      <td>0.0</td>\n      <td>0</td>\n      <td>Scoop Guest House</td>\n    </tr>\n    <tr>\n      <th>32</th>\n      <td>Thinadhoo</td>\n      <td>MV</td>\n      <td>84.99</td>\n      <td>0.53</td>\n      <td>72.93</td>\n      <td>broken clouds</td>\n      <td>0.0</td>\n      <td>0</td>\n      <td></td>\n    </tr>\n    <tr>\n      <th>35</th>\n      <td>Oistins</td>\n      <td>BB</td>\n      <td>82.40</td>\n      <td>13.07</td>\n      <td>-59.53</td>\n      <td>scattered clouds</td>\n      <td>0.0</td>\n      <td>0</td>\n      <td>Butterfly Beach Hotel</td>\n    </tr>\n  </tbody>\n</table>\n</div>"
     },
     "metadata": {},
     "execution_count": 23
    }
   ],
   "source": [
    "# Iterate through the Dataframe\n",
    "for index, row in hotel_df.iterrows():\n",
    "    # Get lat and lng\n",
    "    lat = row[\"Lat\"]\n",
    "    lng = row[\"Lng\"]\n",
    "\n",
    "    # Add lat and lng to location key for params dictionary\n",
    "    params[\"location\"] = f\"{lat},{lng}\"\n",
    "    \n",
    "    # Use search term: \"lodging\" and our lat and lng\n",
    "    base_url = \"https://maps.googleapis.com/maps/api/place/nearbysearch/json\"\n",
    "    # Make request and get the JSON data from the search.\n",
    "    hotels = requests.get(base_url, params=params).json()\n",
    "    # Grab the first hotel from the results and store the name.\n",
    "    try:\n",
    "        hotel_df.loc[index, \"Hotel Name\"] = hotels[\"results\"][0][\"name\"]\n",
    "    except (IndexError):\n",
    "        print(\"Hotel not found... skipping.\")\n",
    "hotel_df.head(10)"
   ]
  },
  {
   "cell_type": "code",
   "execution_count": 43,
   "metadata": {},
   "outputs": [
    {
     "output_type": "display_data",
     "data": {
      "text/plain": "Figure(layout=FigureLayout(height='420px'))",
      "application/vnd.jupyter.widget-view+json": {
       "version_major": 2,
       "version_minor": 0,
       "model_id": "05910afd61c24aec852c4ba134d53e35"
      }
     },
     "metadata": {}
    }
   ],
   "source": [
    "# Add a heatmap of temperature for the vacation spots.\n",
    "locations = hotel_df[[\"Lat\", \"Lng\"]]\n",
    "max_temp = hotel_df[\"Max Temp\"]\n",
    "fig = gmaps.figure(center=(30.0, 31.0), zoom_level=1.5)\n",
    "heat_layer = gmaps.heatmap_layer(locations, weights=max_temp, dissipating=False,\n",
    "             max_intensity=300, point_radius=4)\n",
    "marker_layer = gmaps.marker_layer(locations,info_box_content=hotel_info)\n",
    "fig.add_layer(heat_layer)\n",
    "fig.add_layer(marker_layer)\n",
    "# Call the figure to plot the data.\n",
    "fig"
   ]
  },
  {
   "cell_type": "code",
   "execution_count": 36,
   "metadata": {},
   "outputs": [],
   "source": [
    "info_box_template = \"\"\"\n",
    "<dl>\n",
    "<dt>Hotel Name:</dt><dd>{Hotel Name}</dd>\n",
    "<dt>City:</dt><dd>{City}</dd>\n",
    "<dt>Country:</dt><dd>{Country}</dd>\n",
    "<dt>Weather Description:</dt/<dd>{Weather Description}</dd>\n",
    "<dt>Max Temp:</dt><dd>{Max Temp} °F</dd>\n",
    "</dl>\n",
    "\"\"\""
   ]
  },
  {
   "cell_type": "code",
   "execution_count": 37,
   "metadata": {},
   "outputs": [],
   "source": [
    "# Store dataframe row\n",
    "hotel_info = [info_box_template.format(**row) for index, row in hotel_df.iterrows()]"
   ]
  },
  {
   "cell_type": "code",
   "execution_count": 40,
   "metadata": {},
   "outputs": [],
   "source": [
    "# Create the output file (CSV).\n",
    "output_data_file1 = \"weather_data/WeatherPy_vacation.csv\"\n",
    "# Export the filtered data into a CSV.\n",
    "hotel_df.to_csv(output_data_file1, index_label=\"City_ID\")"
   ]
  },
  {
   "cell_type": "code",
   "execution_count": null,
   "metadata": {},
   "outputs": [],
   "source": []
  }
 ],
 "metadata": {
  "kernelspec": {
   "name": "python_defaultSpec_1594606435712",
   "display_name": "Python 3.7.7 64-bit ('PythonData1': conda)"
  }
 },
 "nbformat": 4,
 "nbformat_minor": 4
}