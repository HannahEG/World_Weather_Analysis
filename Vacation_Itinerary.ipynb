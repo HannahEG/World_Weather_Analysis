{
 "cells": [
  {
   "cell_type": "code",
   "execution_count": 57,
   "metadata": {},
   "outputs": [],
   "source": [
    "# dependencies\n",
    "import pandas as pd \n",
    "import gmaps\n",
    "import gmaps.datasets \n",
    "from config1 import g_key"
   ]
  },
  {
   "cell_type": "code",
   "execution_count": 34,
   "metadata": {},
   "outputs": [
    {
     "output_type": "execute_result",
     "data": {
      "text/plain": "   City_ID              City Country  Max Temp    Lat     Lng  \\\n0        2             Vaini      TO     77.00 -21.20 -175.20   \n1        7  Nizhniy Kuranakh      RU     88.61  58.84  125.49   \n2       10     Cockburn Town      TC     83.23  21.46  -71.14   \n3       13              Mayo      US     82.40  38.89  -76.51   \n4       17            Tiarei      PF     80.60 -17.53 -149.33   \n\n           Weather Description  Rainfall  Snowfall  \\\n0  light intensity shower rain       0.0         0   \n1                broken clouds       0.0         0   \n2                    clear sky       0.0         0   \n3                   few clouds       0.0         0   \n4                broken clouds       0.0         0   \n\n                             Hotel Name  \n0                   Keleti Beach Resort  \n1                           Park Pobedy  \n2                    Osprey Beach Hotel  \n3  Resorts Resource Group International  \n4                   Le Rocher de Tahiti  ",
      "text/html": "<div>\n<style scoped>\n    .dataframe tbody tr th:only-of-type {\n        vertical-align: middle;\n    }\n\n    .dataframe tbody tr th {\n        vertical-align: top;\n    }\n\n    .dataframe thead th {\n        text-align: right;\n    }\n</style>\n<table border=\"1\" class=\"dataframe\">\n  <thead>\n    <tr style=\"text-align: right;\">\n      <th></th>\n      <th>City_ID</th>\n      <th>City</th>\n      <th>Country</th>\n      <th>Max Temp</th>\n      <th>Lat</th>\n      <th>Lng</th>\n      <th>Weather Description</th>\n      <th>Rainfall</th>\n      <th>Snowfall</th>\n      <th>Hotel Name</th>\n    </tr>\n  </thead>\n  <tbody>\n    <tr>\n      <th>0</th>\n      <td>2</td>\n      <td>Vaini</td>\n      <td>TO</td>\n      <td>77.00</td>\n      <td>-21.20</td>\n      <td>-175.20</td>\n      <td>light intensity shower rain</td>\n      <td>0.0</td>\n      <td>0</td>\n      <td>Keleti Beach Resort</td>\n    </tr>\n    <tr>\n      <th>1</th>\n      <td>7</td>\n      <td>Nizhniy Kuranakh</td>\n      <td>RU</td>\n      <td>88.61</td>\n      <td>58.84</td>\n      <td>125.49</td>\n      <td>broken clouds</td>\n      <td>0.0</td>\n      <td>0</td>\n      <td>Park Pobedy</td>\n    </tr>\n    <tr>\n      <th>2</th>\n      <td>10</td>\n      <td>Cockburn Town</td>\n      <td>TC</td>\n      <td>83.23</td>\n      <td>21.46</td>\n      <td>-71.14</td>\n      <td>clear sky</td>\n      <td>0.0</td>\n      <td>0</td>\n      <td>Osprey Beach Hotel</td>\n    </tr>\n    <tr>\n      <th>3</th>\n      <td>13</td>\n      <td>Mayo</td>\n      <td>US</td>\n      <td>82.40</td>\n      <td>38.89</td>\n      <td>-76.51</td>\n      <td>few clouds</td>\n      <td>0.0</td>\n      <td>0</td>\n      <td>Resorts Resource Group International</td>\n    </tr>\n    <tr>\n      <th>4</th>\n      <td>17</td>\n      <td>Tiarei</td>\n      <td>PF</td>\n      <td>80.60</td>\n      <td>-17.53</td>\n      <td>-149.33</td>\n      <td>broken clouds</td>\n      <td>0.0</td>\n      <td>0</td>\n      <td>Le Rocher de Tahiti</td>\n    </tr>\n  </tbody>\n</table>\n</div>"
     },
     "metadata": {},
     "execution_count": 34
    }
   ],
   "source": [
    "# store cities csv into a dataframe\n",
    "weatherpy_vacation_df = pd.read_csv(\"weather_data/WeatherPy_vacation.csv\")\n",
    "weatherpy_vacation_df.head()"
   ]
  },
  {
   "cell_type": "code",
   "execution_count": 38,
   "metadata": {},
   "outputs": [],
   "source": [
    "# Set index\n",
    "weatherpy_vacation_df = weatherpy_vacation_df.set_index(\"City\")"
   ]
  },
  {
   "cell_type": "code",
   "execution_count": 116,
   "metadata": {},
   "outputs": [
    {
     "output_type": "execute_result",
     "data": {
      "text/plain": "                                                     Mayo\nCity_ID                                                13\nCountry                                                US\nMax Temp                                             82.4\nLat                                                 38.89\nLng                                                -76.51\nWeather Description                            few clouds\nRainfall                                                0\nSnowfall                                                0\nHotel Name           Resorts Resource Group International",
      "text/html": "<div>\n<style scoped>\n    .dataframe tbody tr th:only-of-type {\n        vertical-align: middle;\n    }\n\n    .dataframe tbody tr th {\n        vertical-align: top;\n    }\n\n    .dataframe thead th {\n        text-align: right;\n    }\n</style>\n<table border=\"1\" class=\"dataframe\">\n  <thead>\n    <tr style=\"text-align: right;\">\n      <th></th>\n      <th>Mayo</th>\n    </tr>\n  </thead>\n  <tbody>\n    <tr>\n      <th>City_ID</th>\n      <td>13</td>\n    </tr>\n    <tr>\n      <th>Country</th>\n      <td>US</td>\n    </tr>\n    <tr>\n      <th>Max Temp</th>\n      <td>82.4</td>\n    </tr>\n    <tr>\n      <th>Lat</th>\n      <td>38.89</td>\n    </tr>\n    <tr>\n      <th>Lng</th>\n      <td>-76.51</td>\n    </tr>\n    <tr>\n      <th>Weather Description</th>\n      <td>few clouds</td>\n    </tr>\n    <tr>\n      <th>Rainfall</th>\n      <td>0</td>\n    </tr>\n    <tr>\n      <th>Snowfall</th>\n      <td>0</td>\n    </tr>\n    <tr>\n      <th>Hotel Name</th>\n      <td>Resorts Resource Group International</td>\n    </tr>\n  </tbody>\n</table>\n</div>"
     },
     "metadata": {},
     "execution_count": 116
    }
   ],
   "source": [
    "# Create dataframes for 4 selected cities\n",
    "ocean_city_df = pd.DataFrame({\"Ocean City\":(weatherpy_vacation_df.loc[\"Ocean City\"])})\n",
    "brigantine_df = pd.DataFrame({\"Brigantine\":(weatherpy_vacation_df.loc[\"Brigantine\"])})\n",
    "mayo_df = pd.DataFrame({\"Mayo\":(weatherpy_vacation_df.loc['Mayo'])})\n",
    "bethel_df = pd.DataFrame({\"Bethel\":(weatherpy_vacation_df.loc[\"Bethel\"])})\n",
    "mayo_df"
   ]
  },
  {
   "cell_type": "code",
   "execution_count": 121,
   "metadata": {},
   "outputs": [],
   "source": [
    "# Get only lat/lng values\n",
    "ocean_city_lat = (ocean_city_df.to_numpy()[3][0]).astype(float)\n",
    "ocean_city_lng = (ocean_city_df.to_numpy()[4][0]).astype(float)\n",
    "brigantine_lat = (brigantine_df.to_numpy()[3][0]).astype(float)\n",
    "brigantine_lng = (brigantine_df.to_numpy()[4][0]).astype(float)\n",
    "bethel_lat = (bethel_df.to_numpy()[3][0]).astype(float)\n",
    "bethel_lng = (bethel_df.to_numpy()[4][0]).astype(float)\n",
    "mayo_lat = (mayo_df.to_numpy()[3][0]).astype(float)\n",
    "mayo_lng = (mayo_df.to_numpy()[4][0]).astype(float)\n"
   ]
  },
  {
   "cell_type": "code",
   "execution_count": 101,
   "metadata": {},
   "outputs": [],
   "source": [
    "# Configure gmaps\n",
    "gmaps.configure(g_key)"
   ]
  },
  {
   "cell_type": "code",
   "execution_count": 160,
   "metadata": {},
   "outputs": [
    {
     "output_type": "execute_result",
     "data": {
      "text/plain": "(39.28, -74.57)"
     },
     "metadata": {},
     "execution_count": 160
    }
   ],
   "source": [
    "# Lat/lng paired variables\n",
    "ocean_city = (ocean_city_lat, ocean_city_lng)\n",
    "brigantine = (brigantine_lat, brigantine_lng)\n",
    "mayo = (mayo_lat, mayo_lng)\n",
    "bethel = (bethel_lat, bethel_lng)\n",
    "ocean_city"
   ]
  },
  {
   "cell_type": "code",
   "execution_count": 209,
   "metadata": {},
   "outputs": [
    {
     "output_type": "error",
     "ename": "TypeError",
     "evalue": "marker_layer() missing 1 required positional argument: 'locations'",
     "traceback": [
      "\u001b[0;31m---------------------------------------------------------------------------\u001b[0m",
      "\u001b[0;31mTypeError\u001b[0m                                 Traceback (most recent call last)",
      "\u001b[0;32m<ipython-input-209-3f8be578278b>\u001b[0m in \u001b[0;36m<module>\u001b[0;34m\u001b[0m\n\u001b[1;32m      6\u001b[0m     \u001b[0mmayo\u001b[0m\u001b[0;34m,\u001b[0m \u001b[0mbethel\u001b[0m\u001b[0;34m,\u001b[0m \u001b[0mwaypoints\u001b[0m\u001b[0;34m=\u001b[0m\u001b[0;34m[\u001b[0m\u001b[0mocean_city\u001b[0m\u001b[0;34m,\u001b[0m \u001b[0mbrigantine\u001b[0m\u001b[0;34m]\u001b[0m\u001b[0;34m,\u001b[0m\u001b[0;34m\u001b[0m\u001b[0;34m\u001b[0m\u001b[0m\n\u001b[1;32m      7\u001b[0m     travel_mode=\"DRIVING\")\n\u001b[0;32m----> 8\u001b[0;31m \u001b[0mmarker_layer\u001b[0m \u001b[0;34m=\u001b[0m \u001b[0mgmaps\u001b[0m\u001b[0;34m.\u001b[0m\u001b[0mmarker_layer\u001b[0m\u001b[0;34m(\u001b[0m\u001b[0minfo_box_content\u001b[0m\u001b[0;34m=\u001b[0m\u001b[0mmerged_info\u001b[0m\u001b[0;34m)\u001b[0m\u001b[0;34m\u001b[0m\u001b[0;34m\u001b[0m\u001b[0m\n\u001b[0m\u001b[1;32m      9\u001b[0m \u001b[0mfig\u001b[0m\u001b[0;34m.\u001b[0m\u001b[0madd_layer\u001b[0m\u001b[0;34m(\u001b[0m\u001b[0mmayo2bethel_via_ocean_city_via_brigantine\u001b[0m\u001b[0;34m)\u001b[0m\u001b[0;34m\u001b[0m\u001b[0;34m\u001b[0m\u001b[0m\n\u001b[1;32m     10\u001b[0m \u001b[0mfig\u001b[0m\u001b[0;34m.\u001b[0m\u001b[0madd_layer\u001b[0m\u001b[0;34m(\u001b[0m\u001b[0mmarker_layer\u001b[0m\u001b[0;34m)\u001b[0m\u001b[0;34m\u001b[0m\u001b[0;34m\u001b[0m\u001b[0m\n",
      "\u001b[0;31mTypeError\u001b[0m: marker_layer() missing 1 required positional argument: 'locations'"
     ]
    }
   ],
   "source": [
    "# Create map with paired variables for four cities\n",
    "locations = merged_df[[\"Lat\",\"Lng\"]]\n",
    "max_temp = merged_df[\"Max Temp\"]\n",
    "fig = gmaps.figure()\n",
    "mayo2bethel_via_ocean_city_via_brigantine = gmaps.directions_layer(\n",
    "    mayo, bethel, waypoints=[ocean_city, brigantine],\n",
    "    travel_mode=\"DRIVING\")\n",
    "marker_layer = gmaps.marker_layer(locations,info_box_content=merged_info)\n",
    "fig.add_layer(mayo2bethel_via_ocean_city_via_brigantine)\n",
    "fig.add_layer(marker_layer)\n",
    "fig"
   ]
  },
  {
   "cell_type": "code",
   "execution_count": 187,
   "metadata": {},
   "outputs": [
    {
     "output_type": "execute_result",
     "data": {
      "text/plain": "        index City_ID Country Max Temp    Lat    Lng Weather Description  \\\n0  Ocean City     418      US     78.8  39.28 -74.57           clear sky   \n1  Brigantine     192      US     78.8  39.41 -74.36           clear sky   \n2        Mayo      13      US     82.4  38.89 -76.51          few clouds   \n3      Bethel      43      US    78.01  41.37 -73.41    scattered clouds   \n\n  Rainfall Snowfall                               Hotel Name  \n0        0        0                          Biscayne Suites  \n1        0        0  Legacy Vacation Resort Brigantine Beach  \n2        0        0     Resorts Resource Group International  \n3        0        0            Courtyard by Marriott Danbury  ",
      "text/html": "<div>\n<style scoped>\n    .dataframe tbody tr th:only-of-type {\n        vertical-align: middle;\n    }\n\n    .dataframe tbody tr th {\n        vertical-align: top;\n    }\n\n    .dataframe thead th {\n        text-align: right;\n    }\n</style>\n<table border=\"1\" class=\"dataframe\">\n  <thead>\n    <tr style=\"text-align: right;\">\n      <th></th>\n      <th>index</th>\n      <th>City_ID</th>\n      <th>Country</th>\n      <th>Max Temp</th>\n      <th>Lat</th>\n      <th>Lng</th>\n      <th>Weather Description</th>\n      <th>Rainfall</th>\n      <th>Snowfall</th>\n      <th>Hotel Name</th>\n    </tr>\n  </thead>\n  <tbody>\n    <tr>\n      <th>0</th>\n      <td>Ocean City</td>\n      <td>418</td>\n      <td>US</td>\n      <td>78.8</td>\n      <td>39.28</td>\n      <td>-74.57</td>\n      <td>clear sky</td>\n      <td>0</td>\n      <td>0</td>\n      <td>Biscayne Suites</td>\n    </tr>\n    <tr>\n      <th>1</th>\n      <td>Brigantine</td>\n      <td>192</td>\n      <td>US</td>\n      <td>78.8</td>\n      <td>39.41</td>\n      <td>-74.36</td>\n      <td>clear sky</td>\n      <td>0</td>\n      <td>0</td>\n      <td>Legacy Vacation Resort Brigantine Beach</td>\n    </tr>\n    <tr>\n      <th>2</th>\n      <td>Mayo</td>\n      <td>13</td>\n      <td>US</td>\n      <td>82.4</td>\n      <td>38.89</td>\n      <td>-76.51</td>\n      <td>few clouds</td>\n      <td>0</td>\n      <td>0</td>\n      <td>Resorts Resource Group International</td>\n    </tr>\n    <tr>\n      <th>3</th>\n      <td>Bethel</td>\n      <td>43</td>\n      <td>US</td>\n      <td>78.01</td>\n      <td>41.37</td>\n      <td>-73.41</td>\n      <td>scattered clouds</td>\n      <td>0</td>\n      <td>0</td>\n      <td>Courtyard by Marriott Danbury</td>\n    </tr>\n  </tbody>\n</table>\n</div>"
     },
     "metadata": {},
     "execution_count": 187
    }
   ],
   "source": [
    "merged_cities_df = pd.concat([ocean_city_df, brigantine_df, mayo_df, bethel_df], axis=1)\n",
    "merged_df = (merged_cities_df.transpose()).reset_index()\n",
    "merged_df"
   ]
  },
  {
   "cell_type": "code",
   "execution_count": 206,
   "metadata": {},
   "outputs": [],
   "source": [
    "info_box_template = \"\"\"\n",
    "<dl>\n",
    "<dt>Hotel Name:</dt><dd>{Hotel Name}</dd>\n",
    "<dt>City:</dt><dd>{index}</dd>\n",
    "<dt>Country:</dt><dd>{Country}</dd>\n",
    "<dt>Weather Description:</dt/<dd>{Weather Description}</dd>\n",
    "<dt>Max Temp:</dt><dd>{Max Temp} °F</dd>\n",
    "</dl>\n",
    "\"\"\""
   ]
  },
  {
   "cell_type": "code",
   "execution_count": 144,
   "metadata": {},
   "outputs": [],
   "source": [
    "locations = (merged_df[[\"Lat\", \"Lng\"]]).astype(float)"
   ]
  },
  {
   "cell_type": "code",
   "execution_count": 207,
   "metadata": {},
   "outputs": [],
   "source": [
    "# Store dataframe row\n",
    "merged_info = [info_box_template.format(**row) for index, row in merged_df.iterrows()]"
   ]
  },
  {
   "cell_type": "code",
   "execution_count": null,
   "metadata": {},
   "outputs": [],
   "source": []
  }
 ],
 "metadata": {
  "kernelspec": {
   "name": "python_defaultSpec_1594618050751",
   "display_name": "Python 3.7.7 64-bit ('PythonData1': conda)"
  }
 },
 "nbformat": 4,
 "nbformat_minor": 4
}